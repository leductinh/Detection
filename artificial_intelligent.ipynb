{
  "cells": [
    {
      "cell_type": "markdown",
      "metadata": {
        "id": "view-in-github",
        "colab_type": "text"
      },
      "source": [
        "<a href=\"https://colab.research.google.com/github/leductinh/Detection/blob/main/artificial_intelligent.ipynb\" target=\"_parent\"><img src=\"https://colab.research.google.com/assets/colab-badge.svg\" alt=\"Open In Colab\"/></a>"
      ]
    },
    {
      "cell_type": "markdown",
      "metadata": {
        "id": "wja5uC6ZFILB"
      },
      "source": [
        "## **Hello World!**"
      ]
    },
    {
      "cell_type": "code",
      "execution_count": null,
      "metadata": {
        "id": "0cYf99dLxCXe"
      },
      "outputs": [],
      "source": [
        "print('hello world!')\n",
        "num1 = int(input('Nhap so thu nhat: '))\n",
        "print(num1)\n",
        "num2 = int(input('Nhap so thu hai: '))\n",
        "num = num1 + num2\n",
        "print(num)"
      ]
    },
    {
      "cell_type": "code",
      "execution_count": null,
      "metadata": {
        "id": "MPftcFpSxwEe"
      },
      "outputs": [],
      "source": [
        "with open('test.txt', mode='w') as accounts:\n",
        "  accounts.write('100 Jones 24.98\\n')\n",
        "  accounts.write('200 Doe 24.98\\n')\n",
        "  accounts.write('300 Jones 24.938\\n')\n",
        "  accounts.write('400 Jones 2983.98\\n')\n",
        "  accounts.write('500 Jones 24.98\\n')"
      ]
    },
    {
      "cell_type": "code",
      "execution_count": null,
      "metadata": {
        "id": "ljpn3I8C3Hyz"
      },
      "outputs": [],
      "source": [
        "with open('test.txt', mode='r') as accounts:\n",
        "  print(f'{\"Account\":<10}{\"Name\":<10}{\"Balance\":>10}')\n",
        "  for record in accounts:\n",
        "    account, name, balance = record.split()\n",
        "    print(f'{account:<10}{name:<10}{balance:>10}')"
      ]
    },
    {
      "cell_type": "code",
      "execution_count": null,
      "metadata": {
        "id": "nF8j9Vr_5O-V"
      },
      "outputs": [],
      "source": [
        "from google.colab import files\n",
        "upload = files.upload()"
      ]
    },
    {
      "cell_type": "markdown",
      "metadata": {
        "id": "kJ2c29m35CpX"
      },
      "source": [
        "## **4 - 3 - Đọc dữ liệu file CSV**"
      ]
    },
    {
      "cell_type": "code",
      "execution_count": null,
      "metadata": {
        "id": "4dFxoHze5nDK"
      },
      "outputs": [],
      "source": [
        "import pandas as pd # Thư viện xử lý số liệu dạng bảng\n",
        "url = 'http://winterolympicsmedals.com/medals.csv'\n",
        "data = pd.read_csv(url)\n",
        "data\n",
        "# data.shape\n",
        "# data.describe() # Count: số bộ dữ liệu; mean: trung bình; std: phương sai; min, max\n",
        "# data.iloc[0:100] # Định vị dữ liệu (trích dữ liệu?)\n",
        "\n",
        "\n"
      ]
    },
    {
      "cell_type": "code",
      "execution_count": null,
      "metadata": {
        "id": "DJ67MFWuwHq0"
      },
      "outputs": [],
      "source": [
        "data = data.set_index(data['NOC']) # Lọc dữ liệu theo 'NOC'\n",
        "data.loc['RUS']\n",
        "data[data['NOC'] == 'NOR'].head(30)  # Cot gia tri loc de o dau tien.\n",
        "\n",
        "# head(30): hiện 30 hàng đầu.\n"
      ]
    },
    {
      "cell_type": "code",
      "execution_count": null,
      "metadata": {
        "id": "s9WyykSryrML"
      },
      "outputs": [],
      "source": [
        "data[(data['Year'] >= 1980)&(data['Year'] <= 2000)&(data['NOC'] == 'USA')&(data['Event gender'] == 'W')&(data['Medal'] == 'Gold')].head(10)  "
      ]
    },
    {
      "cell_type": "code",
      "execution_count": null,
      "metadata": {
        "id": "lB9IFVS8zijh"
      },
      "outputs": [],
      "source": [
        "data.drop(['NOC', 'Year'], axis=1).head(10) # axis=1: xoá hết cột?"
      ]
    },
    {
      "cell_type": "code",
      "execution_count": null,
      "metadata": {
        "id": "yPciRzTX2NqS"
      },
      "outputs": [],
      "source": [
        "data.drop(data.columns[2:4], axis=1).head(10)"
      ]
    },
    {
      "cell_type": "code",
      "execution_count": null,
      "metadata": {
        "id": "sSliOy0X2qg4"
      },
      "outputs": [],
      "source": [
        "data[data['NOC'] != 'CAN'].head(10)"
      ]
    },
    {
      "cell_type": "code",
      "execution_count": null,
      "metadata": {
        "id": "fN0Laz2M3Ja8"
      },
      "outputs": [],
      "source": [
        "data.groupby('NOC').head(100)"
      ]
    },
    {
      "cell_type": "code",
      "execution_count": null,
      "metadata": {
        "id": "bPt9yB3I5mWU"
      },
      "outputs": [],
      "source": [
        "data.groupby('NOC').count()"
      ]
    },
    {
      "cell_type": "code",
      "execution_count": null,
      "metadata": {
        "id": "HhF2FlRx514b"
      },
      "outputs": [],
      "source": [
        "data.groupby(['Year', 'NOC']).count() # Đếm trong 1 năm, với mỗi nước thì các cột xuất hiện bao nhiêu lần??"
      ]
    },
    {
      "cell_type": "code",
      "execution_count": null,
      "metadata": {
        "id": "heGVXi8l6rjV"
      },
      "outputs": [],
      "source": [
        "data.groupby(['Year', 'NOC'])['Medal'].count()\n"
      ]
    },
    {
      "cell_type": "code",
      "execution_count": null,
      "metadata": {
        "id": "CHn8PH3n7CrQ"
      },
      "outputs": [],
      "source": [
        "data.groupby(['Year', 'NOC', 'Event gender']).count()"
      ]
    },
    {
      "cell_type": "code",
      "execution_count": null,
      "metadata": {
        "id": "CSF5HbLU7ej9"
      },
      "outputs": [],
      "source": [
        "data.groupby(['Year', 'NOC', 'Medal']).count()"
      ]
    },
    {
      "cell_type": "code",
      "execution_count": null,
      "metadata": {
        "id": "xWmM9p8i7vjS"
      },
      "outputs": [],
      "source": [
        "data['NOC'].unique()  # Liệt kê những phần tử có xuất hiện."
      ]
    },
    {
      "cell_type": "code",
      "execution_count": null,
      "metadata": {
        "id": "-CAlQH8-7v_X"
      },
      "outputs": [],
      "source": [
        "data['NOC'].value_counts() # Đếm số lần xuất hiện của các phần tử??"
      ]
    },
    {
      "cell_type": "code",
      "execution_count": null,
      "metadata": {
        "id": "lzZgPAdV9bez"
      },
      "outputs": [],
      "source": [
        "from openpyxl import Workbook\n",
        "wb = Workbook()\n",
        "sheet = wb.active\n",
        "sheet['A1'] = 'Hello'\n",
        "sheet['B1'] = 'World'\n",
        "sheet['A2'] = 'Xin chào'\n",
        "sheet['B2'] = 'con di'\n",
        "wb.save('data.xlsx')"
      ]
    },
    {
      "cell_type": "markdown",
      "metadata": {
        "id": "loRWibllE2I4"
      },
      "source": [
        "## **Đọc dữ liệu từ file Excel**"
      ]
    },
    {
      "cell_type": "code",
      "execution_count": null,
      "metadata": {
        "id": "we1eU6eZ9bkK"
      },
      "outputs": [],
      "source": [
        "import openpyxl\n",
        "wb = openpyxl.load_workbook('data.xlsx')\n",
        "sheet = wb.active\n",
        "t1 = sheet['A1']\n",
        "t2 = sheet['B1']\n",
        "\n",
        "t3 = sheet.cell(row=2, column=1).value\n",
        "\n",
        "# t4 = sheet['A2']\n",
        "# t5 = sheet['B2']\n",
        "t6 = sheet.cell(row=2, column=2).value\n",
        "\n",
        "print(t1, t2, t3, t6)\n",
        "\n"
      ]
    },
    {
      "cell_type": "markdown",
      "metadata": {
        "id": "UqgBEXnBE9ZN"
      },
      "source": [
        "## **Chèn dữ liệu vào file**"
      ]
    },
    {
      "cell_type": "code",
      "execution_count": null,
      "metadata": {
        "id": "P2-oCDmM9boi"
      },
      "outputs": [],
      "source": [
        "import openpyxl\n",
        "wb = openpyxl.Workbook()\n",
        "sheet = wb.active\n",
        "c1 = sheet.cell(row=1, column=1)\n",
        "c1.value = 'Nguyễn Văn A'\n",
        "c2 = sheet.cell(row=1, column=2)\n",
        "c2.value = '19146444'\n",
        "c3 = sheet['A2']\n",
        "c3.value = 'Lê Văn B'\n",
        "# c4 = sheet()\n",
        "wb.save('data2.xlsx')"
      ]
    },
    {
      "cell_type": "code",
      "execution_count": null,
      "metadata": {
        "id": "snOK7sh19bsg"
      },
      "outputs": [],
      "source": [
        "import openpyxl\n",
        "wb = openpyxl.Workbook()\n",
        "sheet = wb.active\n",
        "\n",
        "wb.create_sheet(index=1, title='191919')  # Khi tạo new sheet sẽ xoá hết nội dung sheet cũ.\n",
        "wb.create_sheet(index=2, title='191919')  # Khi tạo new sheet sẽ xoá hết nội dung sheet cũ.\n",
        "\n",
        "wb.save('data.xlsx')"
      ]
    },
    {
      "cell_type": "markdown",
      "metadata": {
        "id": "2023HckWvOW-"
      },
      "source": [
        "## **Thời gian (11 - 3 - 2022)**"
      ]
    },
    {
      "cell_type": "code",
      "execution_count": null,
      "metadata": {
        "id": "anW3jQtrFl9N"
      },
      "outputs": [],
      "source": [
        "import datetime as dt\n",
        "thoigian = dt.datetime.now()\n",
        "print(thoigian)"
      ]
    },
    {
      "cell_type": "code",
      "execution_count": null,
      "metadata": {
        "id": "r2brXYI4FmEA"
      },
      "outputs": [],
      "source": [
        "from datetime import date\n",
        "today = date.today()\n",
        "print('Hom nay la ngay', today.day,'thang', today.month,'nam', today.year)"
      ]
    },
    {
      "cell_type": "code",
      "execution_count": null,
      "metadata": {
        "id": "GLpxYtRuEup1"
      },
      "outputs": [],
      "source": [
        "import time\n",
        "thoigian = time.localtime(time.time())\n",
        "print(thoigian)  # time.struct_time(tm_year=2022, tm_mon=3, tm_mday=11, tm_hour=6, tm_min=55, tm_sec=47, tm_wday=4, tm_yday=70, tm_isdst=0)\n",
        "                 # tm_wday=4: Friday (Mon-Sun = 0-6)\n",
        "                 # tm_yday=70: tong so ngay tu dau nam den hien tai."
      ]
    },
    {
      "cell_type": "code",
      "execution_count": null,
      "metadata": {
        "id": "RTQ65fTTEuvm"
      },
      "outputs": [],
      "source": [
        "import calendar\n",
        "cal = calendar.month(2023,1)\n",
        "print('Lich thang sinh ban Tinh:')\n",
        "print(cal)"
      ]
    },
    {
      "cell_type": "code",
      "execution_count": null,
      "metadata": {
        "id": "e0o0M_tsEu1c"
      },
      "outputs": [],
      "source": [
        "import calendar as cl\n",
        "cl.calendar(2001, w=2, l=1, c=6)  # l=1: 1 tuan hien thi tren 1 dong??\n",
        "                                  # This function displays the year, the width of characters, no. of lines per week, and column separations.\n",
        "print(cl.isleap(2022))  # Nam nhuan hay ko.                                \n",
        "print(cl.leapdays(1990, 2022))  # Dem so ngay nhuan tu 1990-2022.\n",
        "cl.monthcalendar(2022, 4)  # So 0 la cac ngay khong thuoc thang 4."
      ]
    },
    {
      "cell_type": "code",
      "execution_count": null,
      "metadata": {
        "id": "o471pfZWEu7a"
      },
      "outputs": [],
      "source": [
        "import calendar as cl\n",
        "c = cl.TextCalendar(cl.SUNDAY)  # set ngay dau tuan la Sunday.\n",
        "str = c.formatmonth(2023, 1)\n",
        "print(str)"
      ]
    },
    {
      "cell_type": "code",
      "execution_count": null,
      "metadata": {
        "id": "e9aJaiLKEvbq"
      },
      "outputs": [],
      "source": [
        "import calendar as cl\n",
        "cl.weekday(2023, 2, 14)\n",
        "print(cl.month(2023,2))"
      ]
    },
    {
      "cell_type": "code",
      "execution_count": null,
      "metadata": {
        "id": "tKysqOdF1rSx"
      },
      "outputs": [],
      "source": [
        "import pandas as pd\n",
        "import numpy as np\n",
        "time = pd.date_range('01/01/2022', periods=100000, freq='30s')  # 100K ngay thang nam.\n",
        "dataFrame = pd.DataFrame(index=time)  # https://pandas.pydata.org/docs/reference/api/pandas.DataFrame.html\n",
        "dataFrame.head(20)\n",
        "dataFrame['Access Amount'] = np.random.randint(0, 10, 100000)  # Tao 100K du lieu tuong ung 100K 'ngay thang nam gio' ben tren.\n",
        "dataFrame.resample('W').sum()  # W: Cach 1 tuan lay mau 1 lan?? Tong du lieu trong 1 tuan.\n",
        "                               # Y: Cach 1 nam...\n",
        "                               # D..."
      ]
    },
    {
      "cell_type": "code",
      "execution_count": null,
      "metadata": {
        "id": "Svm43FCz1ris"
      },
      "outputs": [],
      "source": [
        "from google.colab import files\n",
        "upload = files.upload()"
      ]
    },
    {
      "cell_type": "code",
      "execution_count": null,
      "metadata": {
        "id": "iJwDToti1rp5"
      },
      "outputs": [],
      "source": [
        "import openpyxl\n",
        "wb = openpyxl.load_workbook('file_example.xlsx')\n",
        "sheet = wb.active\n",
        "a = {}\n",
        "# print(sheet.cell(row=1, column=1).value)\n",
        "for i in range(1, sheet.max_row + 1):\n",
        "  for j in range(1, sheet.max_column + 1):\n",
        "    # a[i] = sheet.cell(row = i, column = j).value\n",
        "    print(f'{\"Account\":<10}{\"Name\":<10}{\"Balance\":>10}')\n"
      ]
    },
    {
      "cell_type": "code",
      "execution_count": null,
      "metadata": {
        "id": "1-e0CQ8Q1rw2"
      },
      "outputs": [],
      "source": [
        "import pandas as pd\n",
        "sheet = pd.read_excel(r'file_example.xlsx', 'Sheet2')\n",
        "print(sheet)\n",
        "# print(sheet['Id'])\n",
        "# sheet = sheet.set_index(sheet['Gender']) # Lọc dữ liệu theo 'NOC'.\n",
        "# print()\n",
        "# print(sheet)  # Dấu \\ ở cạnh cột Date là ko đủ chỗ nên điền cột Id xuống hàng."
      ]
    },
    {
      "cell_type": "code",
      "execution_count": null,
      "metadata": {
        "id": "Cs1Y2HK61qbf"
      },
      "outputs": [],
      "source": [
        "print(sheet.loc['Male'])"
      ]
    },
    {
      "cell_type": "code",
      "execution_count": null,
      "metadata": {
        "id": "xIe6Kg7cFlUn"
      },
      "outputs": [],
      "source": [
        "sheet.groupby(['Gender'])"
      ]
    },
    {
      "cell_type": "markdown",
      "metadata": {
        "id": "oeN5lWsZlkxk"
      },
      "source": [
        "**Đọc file excel**"
      ]
    },
    {
      "cell_type": "code",
      "execution_count": null,
      "metadata": {
        "id": "WxRo4dTZkAoF"
      },
      "outputs": [],
      "source": [
        "import pandas as pd\n",
        "sheet = pd.read_excel(r'file_example.xlsx', 'Sheet3')\n",
        "print(sheet)"
      ]
    },
    {
      "cell_type": "markdown",
      "metadata": {
        "id": "FniDSXMClR7-"
      },
      "source": [
        "**Lấy toàn bộ dữ liệu dạng generator và tạo list:**"
      ]
    },
    {
      "cell_type": "code",
      "execution_count": null,
      "metadata": {
        "id": "cEaxZvPzFlb2"
      },
      "outputs": [],
      "source": [
        "g = sheet.iterrows()\n",
        "\n",
        "print(type(g))\n",
        "# <class 'generator'>\n",
        "\n",
        "cells_list=list(g)\n",
        "\n",
        "print(cells_list[1][1])  # Được lưu với dạng [(hàng 1, hàng 2), (h1, h3), (h1, h4), (...)]"
      ]
    },
    {
      "cell_type": "markdown",
      "metadata": {
        "id": "FtolZ3pClsNg"
      },
      "source": [
        "**Lấy toàn bộ dữ liệu, mỗi hàng là 1 array con trong arr2D**"
      ]
    },
    {
      "cell_type": "code",
      "execution_count": null,
      "metadata": {
        "id": "yVVB12_FFlhP"
      },
      "outputs": [],
      "source": [
        "import openpyxl\n",
        "wb = openpyxl.load_workbook('file_example.xlsx')\n",
        "sheet = wb['Sheet3']\n",
        "def get_cell_value_list(sheet):\n",
        "    return([[cell.value for cell in row] for row in sheet])\n",
        "\n",
        "all_cell_value = get_cell_value_list(sheet)\n",
        "print(all_cell_value)"
      ]
    },
    {
      "cell_type": "code",
      "execution_count": null,
      "metadata": {
        "id": "XXVdoeWSmecI"
      },
      "outputs": [],
      "source": [
        "n_row = sheet.shape[0]\n",
        "\n",
        "def get_cell_value_list(sheet):\n",
        "    return([[cell for cell in row] for row in range(n_row)])\n",
        "\n",
        "all_cell_value = get_cell_value_list(sheet)\n",
        "print(all_cell_value)"
      ]
    },
    {
      "cell_type": "code",
      "execution_count": null,
      "metadata": {
        "id": "FwCbtKLfFlmT"
      },
      "outputs": [],
      "source": [
        "pip install scikit-fuzzy"
      ]
    },
    {
      "cell_type": "code",
      "execution_count": null,
      "metadata": {
        "id": "KPwm6T4Op_Ck"
      },
      "outputs": [],
      "source": [
        "import numpy as np\n",
        "import skfuzzy as fuzz\n",
        "# Tạo khoảng mờ\n",
        "x = np.arange(11)\n",
        "\n",
        "# Tạo hàm liên thuộc (vẽ tam giác)\n",
        "mfx = fuzz.trimf(x, [0, 5, 10])  # array([0. , 0.2, 0.4, 0.6, 0.8, 1. , 0.8, 0.6, 0.4, 0.2, 0. ])\n"
      ]
    },
    {
      "cell_type": "code",
      "execution_count": null,
      "metadata": {
        "id": "KrZnEAlnrfz9"
      },
      "outputs": [],
      "source": [
        "import numpy as np\n",
        "import skfuzzy as fuzz\n",
        "import matplotlib.pyplot as plt\n",
        "\n",
        "# Tạo khoảng mờ\n",
        "x = np.arange(30, 81, 1)\n",
        "\n",
        "# Tạo hàm liên thuộc (tam giác)\n",
        "slow = fuzz.trimf(x, [30, 30, 50])\n",
        "medium = fuzz.trimf(x, [30, 50, 70])\n",
        "medium_fast = fuzz.trimf(x, [50, 60, 80])\n",
        "full_speed = fuzz.trimf(x, [60, 80, 80])\n",
        "\n",
        "# Vẽ hàm liên thuộc\n",
        "plt.figure()\n",
        "plt.plot(x, slow, 'b', linewidth=1.5, label='Slow')\n",
        "plt.plot(x, medium, 'k', linewidth=1.5, label='Medium')\n",
        "plt.plot(x, medium_fast, 'g', linewidth=1.5, label='Medium_fast')\n",
        "plt.plot(x, full_speed, 'r', linewidth=1.5, label='Full_speed')\n",
        "\n",
        "plt.title('Hàm liên thuộc của tốc độ')\n",
        "plt.xlabel('Khoảng mờ')\n",
        "plt.ylabel('Giá trị hàm liên thuộc')\n",
        "plt.legend(loc='center right', bbox_to_anchor=(1.25, 0.5), ncol=1, fancybox=True, shadow=True)  \n",
        "  # loc='center right': căn chỉnh bảng legend.\n",
        "  # bbox_to_anchor: định vị trí.\n",
        "  # ncol: số cột."
      ]
    },
    {
      "cell_type": "code",
      "execution_count": null,
      "metadata": {
        "id": "bI6DzuLRrf-w"
      },
      "outputs": [],
      "source": [
        "import numpy as np\n",
        "import skfuzzy as fuzz\n",
        "import matplotlib.pyplot as plt\n",
        "\n",
        "# Tạo khoảng mờ\n",
        "x = np.arange(30, 81, 1)\n",
        "\n",
        "# Tạo hàm liên thuộc (hình thang)\n",
        "slow = fuzz.trapmf(x, [30, 30, 35, 50])\n",
        "medium = fuzz.trapmf(x, [30, 40, 50, 70])\n",
        "medium_fast = fuzz.trapmf(x, [50, 60, 75, 80])\n",
        "full_speed = fuzz.trapmf(x, [60, 70, 80, 80])\n",
        "\n",
        "# Vẽ hàm liên thuộc\n",
        "plt.figure()\n",
        "plt.plot(x, slow, 'b', linewidth=1.5, label='Slow')\n",
        "plt.plot(x, medium, 'k', linewidth=1.5, label='Medium')\n",
        "plt.plot(x, medium_fast, 'g', linewidth=1.5, label='Medium_fast')\n",
        "plt.plot(x, full_speed, 'r', linewidth=1.5, label='Full_speed')\n",
        "\n",
        "plt.title('Hàm liên thuộc của tốc độ')\n",
        "plt.xlabel('Khoảng mờ')\n",
        "plt.ylabel('Giá trị hàm liên thuộc')\n",
        "plt.legend(loc='center right', bbox_to_anchor=(1.25, 0.5), ncol=1, fancybox=True, shadow=True)  \n",
        "  # loc='center right': căn chỉnh bảng legend.\n",
        "  # bbox_to_anchor: định vị trí.\n",
        "  # ncol: số cột."
      ]
    },
    {
      "cell_type": "code",
      "execution_count": null,
      "metadata": {
        "id": "9JbO8W-2rgKb"
      },
      "outputs": [],
      "source": [
        "import numpy as np\n",
        "import skfuzzy as fuzz\n",
        "import matplotlib.pyplot as plt\n",
        "\n",
        "# Tạo khoảng mờ\n",
        "x = np.arange(30, 81, 1)\n",
        "\n",
        "# Tạo hàm liên thuộc (gauss)\n",
        "# fuzz.gaussmf(x, đỉnh, độ dốc)\n",
        "slow = fuzz.gaussmf(x, 30, 4)\n",
        "medium = fuzz.gaussmf(x, 50, 4)\n",
        "medium_fast = fuzz.gaussmf(x, 70, 3)\n",
        "full_speed = fuzz.gaussmf(x, 75, 2)\n",
        "\n",
        "# Vẽ hàm liên thuộc\n",
        "plt.figure()\n",
        "plt.plot(x, slow, 'b', linewidth=1.5, label='Slow')\n",
        "plt.plot(x, medium, 'k', linewidth=1.5, label='Medium')\n",
        "plt.plot(x, medium_fast, 'g', linewidth=1.5, label='Medium_fast')\n",
        "plt.plot(x, full_speed, 'r', linewidth=1.5, label='Full_speed')\n",
        "\n",
        "plt.title('Hàm liên thuộc của tốc độ')\n",
        "plt.xlabel('Khoảng mờ')\n",
        "plt.ylabel('Giá trị hàm liên thuộc')\n",
        "plt.legend(loc='center right', bbox_to_anchor=(1.25, 0.5), ncol=1, fancybox=True, shadow=True)  \n",
        "  # loc='center right': căn chỉnh bảng legend.\n",
        "  # bbox_to_anchor: định vị trí.\n",
        "  # ncol: số cột."
      ]
    },
    {
      "cell_type": "code",
      "execution_count": null,
      "metadata": {
        "id": "dJPh4h_sxO_2"
      },
      "outputs": [],
      "source": [
        "import numpy as np\n",
        "import skfuzzy as fuzz\n",
        "import matplotlib.pyplot as plt\n",
        "\n",
        "# Tạo khoảng mờ\n",
        "x = np.arange(30, 81, 1)\n",
        "\n",
        "# Tạo hàm liên thuộc (hàm chuông)\n",
        "# fuzz.gbellmf(x, 30, rộng góc nghiêng, rộng)\n",
        "slow = fuzz.gbellmf(x, 30, 10, 10)\n",
        "# medium = fuzz.gbellmf(x, [30, 50, 70])\n",
        "# medium_fast = fuzz.gbellmf(x, [50, 60, 80])\n",
        "# full_speed = fuzz.gbellmf(x, [60, 80, 80])\n",
        "\n",
        "# Vẽ hàm liên thuộc\n",
        "plt.figure()\n",
        "plt.plot(x, slow, 'b', linewidth=1.5, label='Slow')\n",
        "plt.plot(x, medium, 'k', linewidth=1.5, label='Medium')\n",
        "plt.plot(x, medium_fast, 'g', linewidth=1.5, label='Medium_fast')\n",
        "plt.plot(x, full_speed, 'r', linewidth=1.5, label='Full_speed')\n",
        "\n",
        "plt.title('Hàm liên thuộc của tốc độ')\n",
        "plt.xlabel('Khoảng mờ')\n",
        "plt.ylabel('Giá trị hàm liên thuộc')\n",
        "plt.legend(loc='center right', bbox_to_anchor=(1.25, 0.5), ncol=1, fancybox=True, shadow=True)  \n",
        "  # loc='center right': căn chỉnh bảng legend.\n",
        "  # bbox_to_anchor: định vị trí.\n",
        "  # ncol: số cột."
      ]
    },
    {
      "cell_type": "code",
      "execution_count": null,
      "metadata": {
        "id": "iUOcqRgBxPGD"
      },
      "outputs": [],
      "source": [
        "import numpy as np\n",
        "import skfuzzy as fuzz\n",
        "from skfuzzy import control as ctrl\n",
        "\n",
        "# Tạo biến vào - ra\n",
        "food = ctrl.Antecedent(np.arange(0, 10.1, 0.1), 'food')  # Thay đổi độ phân giải 0.1 để tạo tam giác hoàn chỉnh?\n",
        "service = ctrl.Antecedent(np.arange(0, 10.1, 0.1), 'service')\n",
        "tip = ctrl.Consequent(np.arange(10, 20.1, 0.1), 'tip')\n",
        "\n",
        "# Tạo hàm liên thuộc\n",
        "food.automf(3)  # automf: auto membership function.\n",
        "service.automf(3)\n",
        "# food.view()\n",
        "\n",
        "# Tạo hàm liên thuộc bằng tay\n",
        "tip['less'] = fuzz.trimf(tip.universe, [10, 12.5, 15])\n",
        "tip['medium'] = fuzz.trimf(tip.universe, [12.5, 15, 17.5])\n",
        "tip['much'] = fuzz.trimf(tip.universe, [15, 17.5, 20])\n",
        "# tip.view()\n",
        "\n",
        "rule1 = ctrl.Rule((food['poor'] & service['poor']) | (food['poor'] & service['average']) | \n",
        "                  (food['average'] & service['poor']), tip['less'])\n",
        "rule2 = ctrl.Rule((food['poor'] & service['good']) | (food['good'] & service['poor']) | \n",
        "                  (food['average'] & service['average']), tip['medium'])\n",
        "rule3 = ctrl.Rule((food['good'] & service['average']) | (food['good'] & service['good']) | \n",
        "                  (food['average'] & service['good']), tip['much'])\n",
        "\n",
        "tipping_ctrl = ctrl.ControlSystem([rule1, rule2, rule3])\n",
        "tipping = ctrl.ControlSystemSimulation(tipping_ctrl)\n",
        "tipping.input['food'] = 3.5\n",
        "tipping.input['service'] = 7\n",
        "tipping.compute()\n",
        "print(tipping.output['tip'])\n",
        "tip.view(sim=tipping)  # sim: simulation\n"
      ]
    },
    {
      "cell_type": "markdown",
      "metadata": {
        "id": "GAVasrJNnxvU"
      },
      "source": [
        "# **Rainfall**"
      ]
    },
    {
      "cell_type": "code",
      "execution_count": null,
      "metadata": {
        "id": "5rJS4rToxPLd"
      },
      "outputs": [],
      "source": [
        "import numpy as np\n",
        "import skfuzzy as fuzz\n",
        "from skfuzzy import control as ctrl\n",
        "\n",
        "# Tạo biến vào - ra\n",
        "temperature = ctrl.Antecedent(np.arange(-5, 40.1, 0.01), 'temperature')  # Thay đổi độ phân giải 0.1 để tạo tam giác hoàn chỉnh?\n",
        "wind_speed = ctrl.Antecedent(np.arange(0, 2.5, 0.01), 'wind-speed')\n",
        "rainfall = ctrl.Consequent(np.arange(0.25, 3.6, 0.01), 'rainfall')\n",
        "\n",
        "# Tạo hàm liên thuộc\n",
        "# temperature.automf(5)  # automf: auto membership function; '5': số khoảng chia (verylow, low,...), nếu để 3 thì có 3 khoảng chia.\n",
        "# wind_speed.automf(5)\n",
        "# food.view()\n",
        "\n",
        "# Tạo hàm liên thuộc bằng tay\n",
        "\n",
        "temperature['VL'] = fuzz.trimf(temperature.universe, [-5, -1, 3])\n",
        "temperature['L'] = fuzz.trimf(temperature.universe, [-1, 5, 12])\n",
        "temperature['AV'] = fuzz.trimf(temperature.universe, [5, 13, 21])\n",
        "temperature['H'] = fuzz.trimf(temperature.universe, [14, 22, 31])\n",
        "temperature['VH'] = fuzz.trimf(temperature.universe, [22, 31, 40])\n",
        "\n",
        "wind_speed['VL'] = fuzz.trimf(wind_speed.universe, [0, 0.2222, 0.4445])\n",
        "wind_speed['L'] = fuzz.trimf(wind_speed.universe, [0.2222, 0.5556, 0.9444])\n",
        "wind_speed['AV'] = fuzz.trimf(wind_speed.universe, [0.5556, 1, 1.444])\n",
        "wind_speed['H'] = fuzz.trimf(wind_speed.universe, [1.056, 1.5, 2])\n",
        "wind_speed['VH'] = fuzz.trimf(wind_speed.universe, [1.5, 2, 2.5])\n",
        "\n",
        "rainfall['very-low-RF'] = fuzz.trimf(rainfall.universe,  [0.25, 0.5389, 0.8279])\n",
        "rainfall['low-RF'] = fuzz.trimf(rainfall.universe, [0.5389, 0.9723, 1.478])\n",
        "rainfall['med-RF'] = fuzz.trimf(rainfall.universe, [0.9723, 1.55, 2.127])\n",
        "rainfall['high-RF'] = fuzz.trimf(rainfall.universe, [1.623, 2.2, 2.85])\n",
        "rainfall['verry-high-RF'] = fuzz.trimf(rainfall.universe, [2.2, 2.85, 3.5])\n",
        "# rainfall.view()\n",
        "temperature.view()\n",
        "wind_speed.view()\n",
        "\n",
        "# tip.view()\n",
        "\n",
        "rule1 = ctrl.Rule((wind_speed['VL'] & temperature['VL']), rainfall['very-low-RF'])\n",
        "rule2 = ctrl.Rule((wind_speed['L'] & temperature['L']), rainfall['very-low-RF'])\n",
        "rule3 = ctrl.Rule((wind_speed['VH'] & temperature['VH']), rainfall['verry-high-RF'])\n",
        "rule4 = ctrl.Rule((wind_speed['L'] & temperature['VL']), rainfall['very-low-RF'])\n",
        "rule5 = ctrl.Rule((wind_speed['H'] & temperature['VH']), rainfall['high-RF'])\n",
        "rule6 = ctrl.Rule((wind_speed['VH'] & temperature['AV']), rainfall['high-RF'])\n",
        "rule7 = ctrl.Rule((wind_speed['VH'] & temperature['L']), rainfall['med-RF'])\n",
        "rule8 = ctrl.Rule((wind_speed['H'] & temperature['VL']), rainfall['med-RF'])\n",
        "rule9 = ctrl.Rule((wind_speed['AV'] & temperature['L']), rainfall['low-RF'])\n",
        "rule10 = ctrl.Rule((wind_speed['AV'] & temperature['AV']), rainfall['med-RF'])\n",
        "rule11 = ctrl.Rule((wind_speed['H'] & temperature['L']), rainfall['med-RF'])\n",
        "rule12 = ctrl.Rule((wind_speed['L'] & temperature['AV']), rainfall['low-RF'])\n",
        "rule13 = ctrl.Rule((wind_speed['H'] & temperature['VL']), rainfall['med-RF'])\n",
        "rule14 = ctrl.Rule((wind_speed['AV'] & temperature['H']), rainfall['med-RF'])\n",
        "rule15 = ctrl.Rule((wind_speed['AV'] & temperature['VH']), rainfall['high-RF'])\n",
        "rule16 = ctrl.Rule((wind_speed['L'] & temperature['VH']), rainfall['med-RF'])\n",
        "rule17 = ctrl.Rule((wind_speed['VL'] & temperature['VH']), rainfall['med-RF'])\n",
        "rule18 = ctrl.Rule((wind_speed['VL'] & temperature['H']), rainfall['med-RF'])\n",
        "rule19 = ctrl.Rule((wind_speed['H'] & temperature['H']), rainfall['high-RF'])\n",
        "rule20 = ctrl.Rule((wind_speed['L'] & temperature['AV']), rainfall['low-RF'])\n",
        "rule21 = ctrl.Rule((wind_speed['AV'] & temperature['L']), rainfall['low-RF'])\n",
        "rule22 = ctrl.Rule((wind_speed['H'] & temperature['L']), rainfall['med-RF'])\n",
        "rule23 = ctrl.Rule((wind_speed['H'] & temperature['VH']), rainfall['verry-high-RF'])\n",
        "rule24 = ctrl.Rule((wind_speed['VL'] & temperature['L']), rainfall['low-RF'])\n",
        "rule25 = ctrl.Rule((wind_speed['L'] & temperature['L']), rainfall['low-RF'])\n",
        "rule26 = ctrl.Rule((wind_speed['L'] & temperature['VL']), rainfall['low-RF'])\n",
        "rule27 = ctrl.Rule((wind_speed['AV'] & temperature['VL']), rainfall['med-RF'])\n",
        "rule28 = ctrl.Rule((wind_speed['VL'] & temperature['AV']), rainfall['med-RF'])\n",
        "rule29 = ctrl.Rule((wind_speed['VH'] & temperature['AV']), rainfall['high-RF'])\n",
        "rule30 = ctrl.Rule((wind_speed['VH'] & temperature['AV']), rainfall['verry-high-RF'])\n",
        "\n",
        "\n",
        "\n",
        "rainfall_ctrl = ctrl.ControlSystem([rule1, rule2, rule3, rule4, rule5, rule6, rule7, rule8, rule9, rule10, rule11, \n",
        "rule12, rule13, rule14, rule15, rule16, rule17, rule18, rule19, rule20, rule21, rule22, rule23, rule24, rule25, rule26, rule27, rule28, rule29, rule30])\n",
        "rainfall_0 = ctrl.ControlSystemSimulation(rainfall_ctrl)\n",
        "rainfall_0.input['temperature'] = 20\n",
        "rainfall_0.input['wind-speed'] = 2\n",
        "rainfall_0.compute()\n",
        "print(rainfall_0.output['rainfall'])\n",
        "rainfall.view(sim=rainfall_0)  # sim: simulation\n"
      ]
    },
    {
      "cell_type": "markdown",
      "metadata": {
        "id": "ec_41VfC3Fyd"
      },
      "source": [
        "# **Acheme.pdf - Sell/Hold**"
      ]
    },
    {
      "cell_type": "code",
      "execution_count": null,
      "metadata": {
        "id": "fnFFWf9KxPQu"
      },
      "outputs": [],
      "source": [
        "import numpy as np\n",
        "import skfuzzy as fuzz\n",
        "from skfuzzy import control as ctrl\n",
        "\n",
        "# Tạo biến vào - ra\n",
        "MACD = ctrl.Antecedent(np.arange(0, 10.1, 0.01), 'MACD')  # Thay đổi độ phân giải 0.1 để tạo tam giác hoàn chỉnh?\n",
        "RSI = ctrl.Antecedent(np.arange(0, 100.1, 0.1), 'RSI')\n",
        "SO = ctrl.Antecedent(np.arange(0, 100.1, 0.1), 'SO')\n",
        "OBV = ctrl.Antecedent(np.arange(0, 10.1, 0.01), 'OBV')\n",
        "recommendation = ctrl.Consequent(np.arange(0, 30.1, 0.01), 'recommendation')\n",
        "\n",
        "# Tạo hàm liên thuộc bằng tay\n",
        "\n",
        "MACD['L'] = fuzz.gaussmf(MACD.universe, 0, 3)\n",
        "MACD['H'] = fuzz.gaussmf(MACD.universe, 10, 3)\n",
        "\n",
        "RSI['L'] = fuzz.gaussmf(RSI.universe, 30, 8)\n",
        "RSI['M'] = fuzz.gaussmf(RSI.universe, 70, 8)\n",
        "RSI['H'] = fuzz.gaussmf(RSI.universe, 100, 8)\n",
        "\n",
        "SO['L'] = fuzz.gaussmf(SO.universe, 30, 8)\n",
        "SO['M'] = fuzz.gaussmf(SO.universe, 70, 8)\n",
        "SO['H'] = fuzz.gaussmf(SO.universe, 100, 8)\n",
        "\n",
        "OBV['L'] = fuzz.gaussmf(OBV.universe, 0, 3)\n",
        "OBV['H'] = fuzz.gaussmf(OBV.universe, 10, 3)\n",
        "\n",
        "recommendation['sell'] = fuzz.trimf(recommendation.universe, [0, 5, 10])\n",
        "recommendation['hold'] = fuzz.trimf(recommendation.universe, [10, 15, 20])\n",
        "recommendation['buy'] = fuzz.trimf(recommendation.universe, [20, 25, 30])\n",
        "\n",
        "# recommendation.view()\n",
        "# MACD.view()\n",
        "# RSI.view()\n",
        "# SO.view()\n",
        "\n",
        "rule1 = ctrl.Rule((MACD['L'] & RSI['M'] & SO['H'] & OBV['L']) | (MACD['L'] & RSI['H'] & SO['H'] & OBV['L']) |\n",
        "                  (MACD['H'] & RSI['H'] & SO['L'] & OBV['L']), recommendation['sell'])\n",
        "rule2 = ctrl.Rule((MACD['L'] & RSI['M'] & SO['M'] & OBV['L']) | (MACD['L'] & RSI['L'] & SO['M'] & OBV['H']) |\n",
        "                  (MACD['H'] & RSI['M'] & SO['M'] & OBV['L']), recommendation['hold'])\n",
        "rule3 = ctrl.Rule((MACD['H'] & RSI['L'] & SO['L'] & OBV['H']) | (MACD['H'] & RSI['H'] & SO['H'] & OBV['L']) |\n",
        "                  (MACD['H'] & RSI['M'] & SO['M'] & OBV['H']) | (MACD['L'] & RSI['L'] & SO['L'] & OBV['H']), recommendation['buy'])\n",
        "\n",
        "\n",
        "recommendation_ctrl = ctrl.ControlSystem([rule1, rule2, rule3])\n",
        "recommendation_0 = ctrl.ControlSystemSimulation(recommendation_ctrl)\n",
        "recommendation_0.input['MACD'] = 0\n",
        "recommendation_0.input['RSI'] = 40\n",
        "recommendation_0.input['SO'] = 30\n",
        "recommendation_0.input['OBV'] = 7\n",
        "recommendation_0.compute()\n",
        "print(recommendation_0.output['recommendation'])\n",
        "recommendation.view(sim=recommendation_0)  # sim: simulation\n"
      ]
    },
    {
      "cell_type": "markdown",
      "metadata": {
        "id": "9Aun3Xsy3Jzx"
      },
      "source": [
        "# **Osman2016.pdf - Food**"
      ]
    },
    {
      "cell_type": "code",
      "execution_count": null,
      "metadata": {
        "id": "LK0vdqCA2Q2f"
      },
      "outputs": [],
      "source": [
        "import numpy as np\n",
        "import skfuzzy as fuzz\n",
        "from skfuzzy import control as ctrl\n",
        "\n",
        "# Tạo biến vào - ra\n",
        "taste = ctrl.Antecedent(np.arange(0, 10.1, 0.01), 'taste')\n",
        "environment = ctrl.Antecedent(np.arange(0, 10.1, 0.01), 'environment')\n",
        "budget = ctrl.Antecedent(np.arange(0, 10.1, 0.01), 'budget')\n",
        "location = ctrl.Antecedent(np.arange(0, 10.1, 0.01), 'location')\n",
        "user_review = ctrl.Antecedent(np.arange(0, 10.1, 0.01), 'user_review')\n",
        "preference = ctrl.Consequent(np.arange(0, 9.1, 0.01), 'preference')\n",
        "\n",
        "# Tạo hàm liên thuộc bằng tay\n",
        "\n",
        "taste['L'] = fuzz.gaussmf(taste.universe, 0, 1.5)\n",
        "taste['M'] = fuzz.gaussmf(taste.universe, 5, 1.5)\n",
        "taste['H'] = fuzz.gaussmf(taste.universe, 10, 1.5)\n",
        "\n",
        "environment['L'] = fuzz.gaussmf(environment.universe, 0, 1.5)\n",
        "environment['M'] = fuzz.gaussmf(environment.universe, 5, 1.5)\n",
        "environment['H'] = fuzz.gaussmf(environment.universe, 10, 1.5)\n",
        "\n",
        "budget['L'] = fuzz.gaussmf(budget.universe, 0, 1.5)\n",
        "budget['M'] = fuzz.gaussmf(budget.universe, 5, 1.5)\n",
        "budget['H'] = fuzz.gaussmf(budget.universe, 10, 1.5)\n",
        "\n",
        "location['L'] = fuzz.gaussmf(location.universe, 0, 1.5)\n",
        "location['M'] = fuzz.gaussmf(location.universe, 5, 1.5)\n",
        "location['H'] = fuzz.gaussmf(location.universe, 10, 1.5)\n",
        "\n",
        "user_review['L'] = fuzz.gaussmf(user_review.universe, 0, 1.5)\n",
        "user_review['M'] = fuzz.gaussmf(user_review.universe, 5, 1.5)\n",
        "user_review['H'] = fuzz.gaussmf(user_review.universe, 10, 1.5)\n",
        "\n",
        "preference['Lv1'] = fuzz.trimf(preference.universe, [0, 1.5, 3])\n",
        "preference['Lv2'] = fuzz.trimf(preference.universe, [1.5, 3, 4.5])\n",
        "preference['Lv3'] = fuzz.trimf(preference.universe, [3, 4.5, 6])\n",
        "preference['Lv4'] = fuzz.trimf(preference.universe, [4.5, 6, 7.5])\n",
        "preference['Lv5'] = fuzz.trimf(preference.universe, [6, 7.5, 9])\n",
        "\n",
        "taste.view()\n",
        "preference.view()\n",
        "\n",
        "rule1 = ctrl.Rule((taste['L'] & environment['L'] & budget['L'] & location['L'] & user_review['L']) | \n",
        "                  (taste['L'] & environment['L'] & budget['L'] & location['L'] & user_review['M']) | \n",
        "                  (taste['M'] & environment['L'] & budget['L'] & location['L'] & user_review['M']) |\n",
        "                  (taste['M'] & environment['L'] & budget['L'] & location['M'] & user_review['L']) |\n",
        "                  (taste['M'] & environment['L'] & budget['M'] & location['L'] & user_review['L']) |\n",
        "                  (taste['L'] & environment['M'] & budget['L'] & location['L'] & user_review['L']), preference['Lv1'])\n",
        "\n",
        "rule2 = ctrl.Rule((taste['L'] & environment['L'] & budget['M'] & location['L'] & user_review['M']) | \n",
        "                  (taste['M'] & environment['L'] & budget['M'] & location['L'] & user_review['M']) | \n",
        "                  (taste['M'] & environment['L'] & budget['M'] & location['M'] & user_review['L']) |\n",
        "                  (taste['M'] & environment['L'] & budget['L'] & location['M'] & user_review['M']) |\n",
        "                  (taste['M'] & environment['L'] & budget['M'] & location['M'] & user_review['L']) |\n",
        "                  (taste['M'] & environment['M'] & budget['L'] & location['M'] & user_review['L']) |\n",
        "                  (taste['M'] & environment['M'] & budget['L'] & location['L'] & user_review['L']) |\n",
        "                  (taste['L'] & environment['M'] & budget['M'] & location['L'] & user_review['M']) |\n",
        "                  (taste['M'] & environment['L'] & budget['M'] & location['L'] & user_review['M']) |\n",
        "                  (taste['M'] & environment['L'] & budget['L'] & location['M'] & user_review['M']), preference['Lv2'])\n",
        "\n",
        "rule3 = ctrl.Rule((taste['M'] & environment['M'] & budget['M'] & location['M'] & user_review['L']) | \n",
        "                  (taste['H'] & environment['M'] & budget['L'] & location['L'] & user_review['L']) | \n",
        "                  (taste['H'] & environment['L'] & budget['M'] & location['L'] & user_review['L']) |\n",
        "                  (taste['L'] & environment['M'] & budget['H'] & location['L'] & user_review['M']) |\n",
        "                  (taste['L'] & environment['L'] & budget['M'] & location['H'] & user_review['M']) |\n",
        "                  (taste['L'] & environment['M'] & budget['M'] & location['H'] & user_review['M']) |\n",
        "                  (taste['M'] & environment['L'] & budget['H'] & location['M'] & user_review['L']) |\n",
        "                  (taste['L'] & environment['H'] & budget['M'] & location['M'] & user_review['L']) |\n",
        "                  (taste['M'] & environment['H'] & budget['L'] & location['L'] & user_review['M']) |\n",
        "                  (taste['H'] & environment['M'] & budget['L'] & location['L'] & user_review['M']) |\n",
        "                  (taste['H'] & environment['M'] & budget['L'] & location['M'] & user_review['L']) |\n",
        "                  (taste['H'] & environment['M'] & budget['M'] & location['L'] & user_review['L']), preference['Lv3'])\n",
        "\n",
        "rule4 = ctrl.Rule((taste['M'] & environment['M'] & budget['H'] & location['L'] & user_review['M']) |\n",
        "                  (taste['M'] & environment['M'] & budget['H'] & location['M'] & user_review['L']) |\n",
        "                  (taste['M'] & environment['M'] & budget['M'] & location['H'] & user_review['L']) |\n",
        "                  (taste['M'] & environment['L'] & budget['M'] & location['H'] & user_review['M']) |\n",
        "                  (taste['M'] & environment['H'] & budget['H'] & location['M'] & user_review['H']) |\n",
        "                  (taste['M'] & environment['H'] & budget['H'] & location['H'] & user_review['M']) |\n",
        "                  (taste['H'] & environment['H'] & budget['M'] & location['H'] & user_review['H']) |\n",
        "                  (taste['H'] & environment['H'] & budget['M'] & location['L'] & user_review['H']) |\n",
        "                  (taste['H'] & environment['H'] & budget['M'] & location['L'] & user_review['M']) |\n",
        "                  (taste['H'] & environment['H'] & budget['M'] & location['H'] & user_review['M']) |\n",
        "                  (taste['H'] & environment['M'] & budget['M'] & location['H'] & user_review['M']) |\n",
        "                  (taste['M'] & environment['H'] & budget['M'] & location['H'] & user_review['M']) |\n",
        "                  (taste['M'] & environment['H'] & budget['M'] & location['M'] & user_review['M']), preference['Lv4'])\n",
        "\n",
        "rule5 = ctrl.Rule((taste['H'] & environment['M'] & budget['H'] & location['H'] & user_review['H']) |\n",
        "                  (taste['H'] & environment['H'] & budget['M'] & location['M'] & user_review['H']) |\n",
        "                  (taste['H'] & environment['H'] & budget['H'] & location['M'] & user_review['H']) |\n",
        "                  (taste['H'] & environment['H'] & budget['H'] & location['H'] & user_review['M']) |\n",
        "                  (taste['M'] & environment['H'] & budget['H'] & location['H'] & user_review['M']) |\n",
        "                  (taste['H'] & environment['H'] & budget['H'] & location['H'] & user_review['H']) |\n",
        "                  (taste['M'] & environment['M'] & budget['H'] & location['H'] & user_review['M']) |\n",
        "                  (taste['M'] & environment['M'] & budget['H'] & location['H'] & user_review['H']), preference['Lv5'])\n",
        "\n",
        "preference_ctrl = ctrl.ControlSystem([rule1, rule2, rule3, rule4, rule5])\n",
        "preference_0 = ctrl.ControlSystemSimulation(preference_ctrl)\n",
        "preference_0.input['taste'] = 4\n",
        "preference_0.input['environment'] = 1\n",
        "preference_0.input['budget'] = 3\n",
        "preference_0.input['location'] = 6\n",
        "preference_0.input['user_review'] = 8\n",
        "preference_0.compute()\n",
        "print(preference_0.output['preference'])\n",
        "preference.view(sim=preference_0)  # sim: simulation\n"
      ]
    },
    {
      "cell_type": "markdown",
      "metadata": {
        "id": "3WvOuSecssWQ"
      },
      "source": [
        "# **Hồi quy - Regression**"
      ]
    },
    {
      "cell_type": "code",
      "execution_count": null,
      "metadata": {
        "id": "5Fdc9pZvsq4e"
      },
      "outputs": [],
      "source": [
        "import pandas as pd # Thư viện xử lý số liệu dạng bảng\n",
        "import numpy as np\n",
        "import matplotlib.pyplot as plt\n",
        "import seaborn as sns\n",
        "\n",
        "data = pd.read_csv('Salary_Data.csv')\n",
        "# data.shape # 30, 2\n",
        "\n",
        "# Lấy dữ liệu từng cột bằng cách xoá các cột còn lại\n",
        "x = data.drop('Salary', axis=1)\n",
        "y = data['Salary']\n",
        "sns.pairplot(data)  # Vẽ dữ liệu theo từng cặp dữ liệu.\n",
        "\n",
        "# Hiển thị dữ liệu\n",
        "plt.figure()\n",
        "plt.plot(x, y, 'r.', label='data')  # 'r.': vẽ các điểm chấm đỏ; 'r': vẽ các đoạn thẳng đỏ.\n",
        "plt.title('Salary vs Experience')\n",
        "plt.xlabel('Year Experience')\n",
        "plt.ylabel('Salary')\n",
        "plt.legend()\n",
        "plt.show()"
      ]
    },
    {
      "cell_type": "markdown",
      "metadata": {
        "id": "YLgGLqSs0R43"
      },
      "source": [
        "**Hai lệnh vẽ tương tự:**"
      ]
    },
    {
      "cell_type": "code",
      "execution_count": null,
      "metadata": {
        "id": "7U2Hh761srG8"
      },
      "outputs": [],
      "source": [
        "plt.plot(x, y, 'r', label='Data')\n"
      ]
    },
    {
      "cell_type": "code",
      "execution_count": null,
      "metadata": {
        "id": "s4Mv96rysrMi"
      },
      "outputs": [],
      "source": [
        "plt.scatter(x, y, label='Data')\n"
      ]
    },
    {
      "cell_type": "markdown",
      "metadata": {
        "id": "8DzXtFjL7XCG"
      },
      "source": [
        "**Tạo hàm hồi quy và tiên đoán dữ liệu**"
      ]
    },
    {
      "cell_type": "code",
      "execution_count": null,
      "metadata": {
        "id": "SvUMxTLGsrSW"
      },
      "outputs": [],
      "source": [
        "from sklearn.linear_model import LinearRegression\n",
        "\n",
        "reg = LinearRegression()\n",
        "reg.fit(x, y)  # Học máy\n",
        "print('Gia tri intercept:', reg.intercept_)\n",
        "print('Gia tri coeffient:', reg.coef_)  # [9449.96232146] do la duong thang nen chi co mot phan tu trong [].\n",
        "print('Phuong trinh hoi quy: y =', reg.coef_, 'x +', reg.intercept_)\n",
        "y_pred = reg.predict(x)  # Truyen cac gia tri x vao phuong trinh hoi quy de tinh gia tri xap xi cua y (Salary).\n",
        "'''\n",
        "array([ 36187.15875227,  38077.15121656,  39967.14368085,  44692.12484158,\n",
        "        46582.11730587,  53197.09093089,  54142.08716303,  56032.07962732,\n",
        "        56032.07962732,  60757.06078805,  62647.05325234,  63592.04948449,\n",
        "        63592.04948449,  64537.04571663,  68317.03064522,  72097.0155738 ,\n",
        "        73987.00803809,  75877.00050238,  81546.97789525,  82491.9741274 ,\n",
        "        90051.94398456,  92886.932681  , 100446.90253816, 103281.8912346 ,\n",
        "       108006.87239533, 110841.86109176, 115566.84225249, 116511.83848464,\n",
        "       123126.81210966, 125016.80457395])\n",
        "'''\n",
        "cal = pd.DataFrame(np.c_[x, y, y_pred, abs(round((y - y_pred)/y*100, 1))], columns=['Experience', 'Original Salary', 'Predict Salary', 'Error (%)'])\n",
        "reg.score(x, y)  # Do chinh xac\n",
        "print(cal)\n"
      ]
    },
    {
      "cell_type": "markdown",
      "metadata": {
        "id": "YiJ5I4sv7n5I"
      },
      "source": [
        "**Vẽ đường hồi quy**"
      ]
    },
    {
      "cell_type": "code",
      "execution_count": null,
      "metadata": {
        "id": "BKemudnQsrYf"
      },
      "outputs": [],
      "source": [
        "plt.scatter(x, y, color='red')\n",
        "plt.plot(x, y_pred, color='blue')\n",
        "plt.title('Salary vs Experiment')\n",
        "plt.xlabel('Years Experience')\n",
        "plt.ylabel('Salary')\n",
        "plt.legend()\n",
        "plt.show()"
      ]
    },
    {
      "cell_type": "markdown",
      "metadata": {
        "id": "Sr0Ru3kG9Fp0"
      },
      "source": [
        "**Xử lý file \"1.01. Simple linear regression.csv\"**"
      ]
    },
    {
      "cell_type": "code",
      "execution_count": null,
      "metadata": {
        "id": "XLI10HWV81K5"
      },
      "outputs": [],
      "source": [
        "import pandas as pd # Thư viện xử lý số liệu dạng bảng\n",
        "import numpy as np\n",
        "import matplotlib.pyplot as plt\n",
        "import seaborn as sns\n",
        "\n",
        "data = pd.read_csv('1.01. Simple linear regression.csv')\n",
        "# data.shape # 30, 2\n",
        "\n",
        "# Lấy dữ liệu từng cột bằng cách xoá các cột còn lại\n",
        "# x = data.drop('SAT', axis=1)\n",
        "x = data.drop('GPA', axis=1)  # Không dùng x = data['SAT'] được, buộc phải bỏ cột GPA đi\n",
        "y = data['GPA']\n",
        "# sns.pairplot(data) \n",
        "\n"
      ]
    },
    {
      "cell_type": "markdown",
      "metadata": {
        "id": "wY2kaoJvFHZs"
      },
      "source": [
        "**Tạo hàm hồi quy và tiên đoán dữ liệu**"
      ]
    },
    {
      "cell_type": "code",
      "execution_count": null,
      "metadata": {
        "id": "XehC7q6k81Px"
      },
      "outputs": [],
      "source": [
        "from sklearn.linear_model import LinearRegression\n",
        "\n",
        "reg = LinearRegression()\n",
        "reg.fit(x, y)  # Học máy\n",
        "print('Gia tri intercept:', reg.intercept_)\n",
        "print('Gia tri coeffient:', reg.coef_)  # [9449.96232146] do la duong thang nen chi co mot phan tu trong [].\n",
        "print('Phuong trinh hoi quy: y =', reg.coef_, 'x +', reg.intercept_)\n",
        "y_pred = reg.predict(x)  # Truyen cac gia tri x vao phuong trinh hoi quy de tinh gia tri xap xi cua y (Salary).\n",
        "cal = pd.DataFrame(np.c_[x, y, y_pred, abs(round((y - y_pred)/y*100, 1))], columns=['SAT', 'Original GPA', 'Predict GPA', 'Error (%)'])\n",
        "print(round(reg.score(x, y)*100, 2))\n",
        "print(cal)"
      ]
    },
    {
      "cell_type": "markdown",
      "metadata": {
        "id": "3F2SZWtnASjB"
      },
      "source": [
        "**Vẽ đường hồi quy**"
      ]
    },
    {
      "cell_type": "code",
      "execution_count": null,
      "metadata": {
        "id": "aWrXrCvx81Us"
      },
      "outputs": [],
      "source": [
        "plt.scatter(x, y, color='red')\n",
        "plt.plot(x, y_pred, color='blue')\n",
        "plt.title('SAT & GPA')\n",
        "plt.xlabel('SAT')\n",
        "plt.ylabel('GPA')\n",
        "plt.legend()\n",
        "plt.show()"
      ]
    },
    {
      "cell_type": "markdown",
      "metadata": {
        "id": "aLO8A9jkBsFN"
      },
      "source": [
        "**Xử lý file 'mtcars.csv'**"
      ]
    },
    {
      "cell_type": "code",
      "execution_count": null,
      "metadata": {
        "id": "4-10PQbZ81Y-"
      },
      "outputs": [],
      "source": [
        "import pandas as pd # Thư viện xử lý số liệu dạng bảng\n",
        "import numpy as np\n",
        "import matplotlib.pyplot as plt\n",
        "import seaborn as sns\n",
        "\n",
        "data = pd.read_csv('mtcars.csv')\n",
        "data.hist()\n",
        "plt.show()\n",
        "\n",
        "correlations = data.corr()  # Bảng thể hiện mối tương quan của các biến.\n",
        "                            # Dấu '+': tỉ lệ thuận, '-': nghịch.\n",
        "                            # Tương quan chính nó = 1.\n",
        "\n",
        "x = data.drop(['Unnamed: 0', 'mpg', 'disp', 'hp'], axis=1)\n",
        "y = data['mpg']\n",
        "print(correlations)\n"
      ]
    },
    {
      "cell_type": "markdown",
      "metadata": {
        "id": "6aiTMCO9FId7"
      },
      "source": [
        "**Tạo hàm hồi quy và tiên đoán dữ liệu**"
      ]
    },
    {
      "cell_type": "code",
      "execution_count": null,
      "metadata": {
        "id": "NYYG9hFm81dL"
      },
      "outputs": [],
      "source": [
        "from sklearn.linear_model import LinearRegression\n",
        "\n",
        "reg = LinearRegression()\n",
        "reg.fit(x, y)  # Học máy\n",
        "print('Gia tri intercept:', reg.intercept_)\n",
        "print('Gia tri coeffient:', reg.coef_)  # [9449.96232146] do la duong thang nen chi co mot phan tu trong [].\n",
        "print('Phuong trinh hoi quy: y =', reg.coef_, 'x +', reg.intercept_)\n",
        "y_pred = reg.predict(x)  # Truyen cac gia tri x vao phuong trinh hoi quy de tinh gia tri xap xi cua y (Salary).\n",
        "cal = pd.DataFrame(np.c_[x, y, y_pred, abs(round((y - y_pred)/y*100, 1))], columns=['wt', 'Original mpg', 'Predict mpg', 'Error (%)'])\n",
        "print(round(reg.score(x, y)*100, 2))\n",
        "print(cal)"
      ]
    },
    {
      "cell_type": "code",
      "execution_count": null,
      "metadata": {
        "id": "4G1_RBv981gz"
      },
      "outputs": [],
      "source": [
        "data.plot(kind='scatter', x='wt', y='mpg', figsize=(9, 9), color='black', xlim=(0, 7))\n",
        "plt.plot(data['wt'], y_pred, color='blue')"
      ]
    },
    {
      "cell_type": "markdown",
      "metadata": {
        "id": "r57T8sNCHsKY"
      },
      "source": [
        "# **Hồi quy đa thức**"
      ]
    },
    {
      "cell_type": "markdown",
      "metadata": {
        "id": "t3YHsLIJNP-_"
      },
      "source": [
        "**Phương trình bậc 2**"
      ]
    },
    {
      "cell_type": "code",
      "execution_count": null,
      "metadata": {
        "id": "zOZ16YB881ki"
      },
      "outputs": [],
      "source": [
        "from sklearn import linear_model\n",
        "import pandas as pd\n",
        "\n",
        "poly_model = linear_model.LinearRegression()\n",
        "\n",
        "# Tạo ra khoảng dữ liệu\n",
        "x = pd.DataFrame([data['wt'], data['wt']**2]).T  # .T là chuyển vị (hàng -> cột, cột -> hàng)\n",
        "\n",
        "# Training mô hình\n",
        "poly_model.fit(x, y = data['mpg'])\n",
        "\n",
        "# Các giá trị hàm hồi quy\n",
        "print('Giá trị intercept:', poly_model.intercept_)\n",
        "print('Giá trị coeffient:', poly_model.coef_)\n",
        "print('Độ chính xác:', poly_model.score(x, y = data['mpg']))\n",
        "\n",
        "# Tạo khoảng dữ liệu\n",
        "poly_range = np.arange(1.5, 5.5, 0.1)\n",
        "\n",
        "# Giá trị tiên đoán\n",
        "poly_pred = pd.DataFrame([poly_range, poly_range**2]).T\n",
        "\n",
        "# Giá trị đáp ứng\n",
        "y_value = poly_model.predict(X=poly_pred)  # X not x\n",
        "data.plot(kind='scatter', x='wt', y='mpg', figsize=(9,9), color='black', xlim=(0,7))\n",
        "plt.plot(poly_range, y_value, color='blue')\n"
      ]
    },
    {
      "cell_type": "markdown",
      "metadata": {
        "id": "tM1KQNkgNJr8"
      },
      "source": [
        "**Phương trình bậc 10**"
      ]
    },
    {
      "cell_type": "code",
      "execution_count": null,
      "metadata": {
        "id": "O6npFNJSNUHV"
      },
      "outputs": [],
      "source": [
        "from sklearn import linear_model\n",
        "import pandas as pd\n",
        "\n",
        "poly_model = linear_model.LinearRegression()\n",
        "\n",
        "# Tạo ra khoảng dữ liệu\n",
        "x = pd.DataFrame([data['wt'], data['wt']**2, data['wt']**3, data['wt']**4, \n",
        "                  data['wt']**5, data['wt']**6, data['wt']**7, data['wt']**8, data['wt']**9, data['wt']**10]).T  # .T là chuyển vị (hàng -> cột, cột -> hàng)\n",
        "\n",
        "# Training mô hình\n",
        "poly_model.fit(x, y = data['mpg'])\n",
        "\n",
        "# Các giá trị hàm hồi quy\n",
        "print('Giá trị intercept:', poly_model.intercept_)\n",
        "print('Giá trị coeffient:', poly_model.coef_)\n",
        "print('Độ chính xác:', poly_model.score(x, y = data['mpg']))\n",
        "\n",
        "# Tạo khoảng dữ liệu\n",
        "poly_range = np.arange(1.5, 5.5, 0.1)\n",
        "\n",
        "# Giá trị tiên đoán\n",
        "poly_pred = pd.DataFrame([poly_range, poly_range**2, poly_range**3, poly_range**4, \n",
        "                          poly_range**5, poly_range**6, poly_range**7, poly_range**8, poly_range**9, poly_range**10]).T\n",
        "\n",
        "# Giá trị đáp ứng\n",
        "y_value = poly_model.predict(X=poly_pred)  # X not x\n",
        "data.plot(kind='scatter', x='wt', y='mpg', figsize=(9,9), color='black', xlim=(0,7))\n",
        "plt.plot(poly_range, y_value, color='blue')\n"
      ]
    },
    {
      "cell_type": "markdown",
      "metadata": {
        "id": "sT3w7jhhQJGf"
      },
      "source": [
        "**Xử lý file 'Advertising.csv'**"
      ]
    },
    {
      "cell_type": "code",
      "execution_count": null,
      "metadata": {
        "id": "Nmg08pvwQVbi"
      },
      "outputs": [],
      "source": [
        "import pandas as pd # Thư viện xử lý số liệu dạng bảng\n",
        "import numpy as np\n",
        "import matplotlib.pyplot as plt\n",
        "import seaborn as sns\n",
        "\n",
        "data = pd.read_csv('Advertising.csv')\n",
        "data.hist()\n",
        "plt.show()\n",
        "\n",
        "correlations = data.corr()  # Bảng thể hiện mối tương quan của các biến.\n",
        "                            # Dấu '+': tỉ lệ thuận, '-': nghịch.\n",
        "                            # Tương quan chính nó = 1.\n",
        "\n",
        "x = data.drop(['Unnamed: 0', 'radio', 'newspaper', 'sales'], axis=1)\n",
        "y = data['sales']\n",
        "print(correlations)\n",
        "print(x)\n",
        "print(y)"
      ]
    },
    {
      "cell_type": "code",
      "execution_count": null,
      "metadata": {
        "id": "UIEck58RQRbz"
      },
      "outputs": [],
      "source": [
        "from sklearn import linear_model\n",
        "import pandas as pd\n",
        "\n",
        "poly_model = linear_model.LinearRegression()\n",
        "\n",
        "# Tạo ra khoảng dữ liệu\n",
        "x = pd.DataFrame([data['TV'], data['TV']**2, data['TV']**3]).T \n",
        "\n",
        "# Training mô hình\n",
        "poly_model.fit(x, y = data['sales'])\n",
        "\n",
        "# Các giá trị hàm hồi quy\n",
        "print('Giá trị intercept:', poly_model.intercept_)\n",
        "print('Giá trị coeffient:', poly_model.coef_)\n",
        "print('Độ chính xác:', poly_model.score(x, y = data['sales']))\n",
        "\n",
        "# Tạo khoảng dữ liệu\n",
        "poly_range = np.arange(1.5, 5.5, 0.1)\n",
        "\n",
        "# Giá trị tiên đoán\n",
        "poly_pred = pd.DataFrame([poly_range, poly_range**2, poly_range**3]).T\n",
        "\n",
        "# Giá trị đáp ứng\n",
        "y_value = poly_model.predict(X=poly_pred)  # X not x\n",
        "data.plot(kind='scatter', x='TV', y='sales', figsize=(9,9), color='black', xlim=(0,7))\n",
        "plt.plot(poly_range, y_value, color='blue')\n"
      ]
    },
    {
      "cell_type": "markdown",
      "metadata": {
        "id": "gpl4mIcJSs__"
      },
      "source": [
        "**Xử lý file 'Position_Salaries.csv'**"
      ]
    },
    {
      "cell_type": "code",
      "execution_count": null,
      "metadata": {
        "id": "kEsm5WscSzm7"
      },
      "outputs": [],
      "source": [
        "import pandas as pd # Thư viện xử lý số liệu dạng bảng\n",
        "import numpy as np\n",
        "import matplotlib.pyplot as plt\n",
        "import seaborn as sns\n",
        "\n",
        "data = pd.read_csv('Position_Salaries.csv')\n",
        "data.hist()\n",
        "plt.show()\n",
        "\n",
        "correlations = data.corr()  # Bảng thể hiện mối tương quan của các biến.\n",
        "                            # Dấu '+': tỉ lệ thuận, '-': nghịch.\n",
        "                            # Tương quan chính nó = 1.\n",
        "\n",
        "x = data.drop(['Position', 'Salary'], axis=1)\n",
        "y = data['Salary']\n",
        "print(correlations)\n",
        "print(x)\n",
        "print(y)\n"
      ]
    },
    {
      "cell_type": "code",
      "execution_count": null,
      "metadata": {
        "id": "4quyhAtITz9P"
      },
      "outputs": [],
      "source": [
        "from sklearn import linear_model\n",
        "import pandas as pd\n",
        "\n",
        "poly_model = linear_model.LinearRegression()\n",
        "\n",
        "# Tạo ra khoảng dữ liệu\n",
        "x = pd.DataFrame([data['Level'], data['Level']**2, data['Level']**3, data['Level']**4, data['Level']**5]).T  # .T là chuyển vị (hàng -> cột, cột -> hàng)\n",
        "\n",
        "# Training mô hình\n",
        "poly_model.fit(x, y = data['Salary'])\n",
        "\n",
        "# Các giá trị hàm hồi quy\n",
        "print('Giá trị intercept:', poly_model.intercept_)\n",
        "print('Giá trị coeffient:', poly_model.coef_)\n",
        "print('Độ chính xác:', poly_model.score(x, y = data['Salary']))\n",
        "\n",
        "# Tạo khoảng dữ liệu\n",
        "poly_range = np.arange(0, 10.1, 0.1)\n",
        "\n",
        "# Giá trị tiên đoán\n",
        "poly_pred = pd.DataFrame([poly_range, poly_range**2, poly_range**3, poly_range**4, poly_range**5]).T\n",
        "\n",
        "# Giá trị đáp ứng\n",
        "y_value = poly_model.predict(X=poly_pred)  # X not x\n",
        "data.plot(kind='scatter', x='Level', y='Salary', figsize=(9,9), color='black', xlim=(1,10))\n",
        "plt.plot(poly_range, y_value, color='blue')\n"
      ]
    },
    {
      "cell_type": "code",
      "execution_count": null,
      "metadata": {
        "id": "Aie5oLYoTVfk"
      },
      "outputs": [],
      "source": [
        "data.plot(kind='scatter', x='Level', y='Salary', figsize=(9, 9), color='black', xlim=(0, 7))\n",
        "plt.plot(data['Level'], y_pred, color='blue')"
      ]
    },
    {
      "cell_type": "code",
      "execution_count": null,
      "metadata": {
        "id": "-ECfX6xBTVkz"
      },
      "outputs": [],
      "source": [
        "plt.scatter(x, y, color='red')\n",
        "# plt.plot(x, y_pred, color='blue')\n",
        "plt.title('SAT & GPA')\n",
        "plt.xlabel('SAT')\n",
        "plt.ylabel('GPA')\n",
        "plt.legend()\n",
        "plt.show()"
      ]
    },
    {
      "cell_type": "markdown",
      "metadata": {
        "id": "R43kVd2au4b0"
      },
      "source": [
        "# **Artificial Neural Network (ANN)**"
      ]
    },
    {
      "cell_type": "markdown",
      "metadata": {
        "id": "S1rPAEh4xr-0"
      },
      "source": [
        "**Perceptron**"
      ]
    },
    {
      "cell_type": "code",
      "execution_count": null,
      "metadata": {
        "id": "8ccHPXX4TVp1"
      },
      "outputs": [],
      "source": [
        "import numpy as np\n",
        "from sklearn.linear_model import Perceptron\n",
        "from sklearn.model_selection import train_test_split  # Thư viện chia dữ liệu random cho train và test\n",
        "\n",
        "# x = [[-0.5, -0.5], [-0.5, 0.5], [0.3, -0.5], [-0.1, 1]]\n",
        "x = [[0.2, 0.7], [-0.3, 0.5], [0.5, 0.6], [0, 0.3]]\n",
        "y = [1, 1, 0, 0]\n",
        "# 4 x, 4 y => 4 cặp dữ liệu => 2 input (x = [x1, x2]), 1 output.\n",
        "\n",
        "model = Perceptron()\n",
        "model.fit(x, y)\n",
        "y_hat = model.predict(x)\n",
        "print(model.score(x, y_hat))\n",
        "print('y =', y)\n",
        "\n"
      ]
    },
    {
      "cell_type": "markdown",
      "metadata": {
        "id": "rg_6qagr3TV2"
      },
      "source": [
        "**Xây dựng cổng OR**"
      ]
    },
    {
      "cell_type": "code",
      "execution_count": null,
      "metadata": {
        "id": "qz_p9xZeTVuI"
      },
      "outputs": [],
      "source": [
        "import numpy as np\n",
        "from sklearn.linear_model import Perceptron\n",
        "from sklearn.model_selection import train_test_split  # Thư viện chia dữ liệu random cho train và test\n",
        "\n",
        "x = [[0, 0], [0, 1], [1, 0], [1, 1]]\n",
        "y = [0, 1, 1, 1]\n",
        "\n",
        "model = Perceptron()\n",
        "model.fit(x, y)\n",
        "A = [[0.2, -1]]\n",
        "y_hat = model.predict(A)\n",
        "\n",
        "print('y_hat =', y_hat)\n",
        "print(model.score(A, y_hat))"
      ]
    },
    {
      "cell_type": "code",
      "execution_count": null,
      "metadata": {
        "id": "WlzdVFTATVy9"
      },
      "outputs": [],
      "source": [
        "from sklearn.datasets import make_classification\n",
        "from sklearn.linear_model import Perceptron\n",
        "\n",
        "# Tạo ra 10 input (n_feature=10)\n",
        "x, y = make_classification(n_samples=1000, n_features=10, n_informative=10, n_redundant=0, random_state=1)\n",
        "\n",
        "model = Perceptron()\n",
        "model.fit(x, y)\n",
        "row = [0.1, -3.6, -2.2, 1.8, 1.7, 0.1, 1.0, 2.3, 1.0, 0.5]\n",
        "y_hat = model.predict([row])\n",
        "print('Predict Class: %d' %y_hat)\n",
        "print('Do chinh xac:', model.score(x, y))  # ???\n"
      ]
    },
    {
      "cell_type": "code",
      "execution_count": null,
      "metadata": {
        "id": "nfSICQbE4Z5E"
      },
      "outputs": [],
      "source": [
        "from sklearn import datasets\n",
        "from sklearn.preprocessing import StandardScaler  # Đơn vị hóa dữ liệu bị chênh lệch (VD: kích thước cánh hoa và nhụy hoa cần scale lại cho phù hợp :D?)\n",
        "from sklearn.linear_model import Perceptron\n",
        "from sklearn.model_selection import train_test_split\n",
        "from sklearn.metrics import accuracy_score\n",
        "from keras.callbacks import EarlyStopping\n",
        "import numpy as np\n",
        "\n",
        "iris = datasets.load_iris()\n",
        "x = iris.data\n",
        "y = iris.target\n",
        "# print(x[0:5])\n",
        "# print(y[0:5])\n",
        "\n",
        "x_train, x_test, y_train, y_test = train_test_split(x, y, test_size=0.3)  # test_size=0.3: Kích thước biến test = 30% dữ liệu chính, train = 70%.\n",
        "\n",
        "sc = StandardScaler()\n",
        "sc.fit(x_train)\n",
        "\n",
        "x_train_std = sc.transform(x_train)\n",
        "x_test_std = sc.transform(x_test)\n",
        "model = Perceptron(max_iter=40, eta0=0.1, random_state=0)  # max_iter: số lần học.\n",
        "                                                           # eta0: tốc độ học (0 < eta0 (< 1)), eta0 càng nhỏ -> accuracy càng cao.\n",
        "y_pred = model.predict(x_test_std)"
      ]
    },
    {
      "cell_type": "markdown",
      "metadata": {
        "id": "AlzSJybXxMrS"
      },
      "source": [
        "# **15 - 4 - 2022**"
      ]
    },
    {
      "cell_type": "markdown",
      "metadata": {
        "id": "xkfKkA7pBae_"
      },
      "source": [
        "**Tạo 1 lớp xử lý**"
      ]
    },
    {
      "cell_type": "code",
      "execution_count": null,
      "metadata": {
        "id": "S-_1GBkP4aGB"
      },
      "outputs": [],
      "source": [
        "from keras.models import Sequential\n",
        "from keras.layers import Dense, Activation\n",
        "\n",
        "\n",
        "model = Sequential()\n",
        "\n",
        "# layer 1 (lớp input thứ 1)\n",
        "model.add(Dense(512, activation='relu', input_shape=(784,)))\n",
        "model.summary()  # số output của layer 1 (512 output) là số input của layer 2.\n",
        "# relu: bộ chỉnh lưu tuyến tính, x < 0 thì relu = 0, x > 0 -> = chính nó\n",
        "# input_shape: số tín hiệu vào = 784.\n",
        "# 512: số tế bào.\n",
        "# Dense: full connected (các tế bào kết nối toàn bộ với nhau)\n"
      ]
    },
    {
      "cell_type": "code",
      "execution_count": null,
      "metadata": {
        "id": "FNFKqtHg4aTB"
      },
      "outputs": [],
      "source": [
        "from keras.models import Sequential\n",
        "from keras.layers import Dense, Activation, Dropout\n",
        "\n",
        "\n",
        "model = Sequential()\n",
        "model.add(Dense(512, activation='relu', input_shape=(784,)))\n",
        "model.add(Dropout(0.2))  # Chặn lại để tín hiệu vào ko vượt quá giá trị 0.2 (nếu > 0.2 thì loại ra)\n",
        "model.add(Dense(512, activation='relu'))  # Do input_shape = 512 (input của layer trước)\n",
        "model.add(Dropout(0.2))\n",
        "model.add(Dense(2, activation='softmax'))  # 2: khai báo số lớp?\n",
        "model.summary()"
      ]
    },
    {
      "cell_type": "markdown",
      "metadata": {
        "id": "z8uxLjzWIpc_"
      },
      "source": [
        "**B1: Nạp data và training**"
      ]
    },
    {
      "cell_type": "code",
      "execution_count": null,
      "metadata": {
        "id": "gzOqb3DA4aY0"
      },
      "outputs": [],
      "source": [
        "import keras\n",
        "from keras.datasets import boston_housing\n",
        "from tensorflow.keras.optimizers import RMSprop  # tính sai số.\n",
        "from keras.callbacks import EarlyStopping  # Dừng nhanh, khi đạt 1 giá trị nào đó thì dừng xử lý.\n",
        "from sklearn import preprocessing\n",
        "from sklearn.preprocessing import scale, StandardScaler\n",
        "\n",
        "\n",
        "(x_train, y_train), (x_test, y_test) = boston_housing.load_data()\n",
        "\n",
        "# print(x_train.shape)\n",
        "# print(y_train.shape)\n",
        "# print(x_test.shape)\n",
        "# print(y_test.shape)\n",
        "\n",
        "'''\n",
        "Các datasets cho trong keras:\n",
        "CIFAR (10): Input hình ảnh và phân được 10 loại (chó, mèo,...)\n",
        "IMDB (100): điểm review phim.\n",
        "MNIST: nhận dạng chữ viết tay.\n",
        "'''\n",
        "\n",
        "x_train_scale = scale(x_train)  # do số liệu không đồng đều (rất lớn, rất nhỏ...)\n",
        "scaler = StandardScaler().fit(x_train)\n",
        "x_test_scale = scale(x_test)\n",
        "y_train_scale = scale(y_train)\n",
        "y_test_scale = scale(y_test)\n",
        "print(x_train[0])\n",
        "print(x_train_scale[0])\n",
        "\n",
        "'''\n",
        "[  1.23247   0.        8.14      0.        0.538     6.142    91.7\n",
        "   3.9769    4.      307.       21.      396.9      18.72   ]\n",
        "[-0.27224633 -0.48361547 -0.43576161 -0.25683275 -0.1652266  -0.1764426\n",
        "  0.81306188  0.1166983  -0.62624905 -0.59517003  1.14850044  0.44807713\n",
        "  0.8252202 ]\n",
        "\n",
        "Các giá trị của x_train_scale đã được chỉnh tỉ lệ đồng đều.\n",
        "'''"
      ]
    },
    {
      "cell_type": "markdown",
      "metadata": {
        "id": "LL9xdhqzIs4E"
      },
      "source": [
        "**B2: Tạo model**"
      ]
    },
    {
      "cell_type": "code",
      "execution_count": null,
      "metadata": {
        "id": "dvfylmKQTV4o"
      },
      "outputs": [],
      "source": [
        "import keras\n",
        "from keras.datasets import boston_housing\n",
        "from tensorflow.keras.optimizers import RMSprop  # tính sai số.\n",
        "from keras.callbacks import EarlyStopping  # Dừng nhanh, khi đạt 1 giá trị nào đó thì dừng xử lý.\n",
        "from sklearn import preprocessing\n",
        "from sklearn.preprocessing import scale, StandardScaler\n",
        "from keras.models import Sequential\n",
        "from keras.layers import Dense, Activation\n",
        "\n",
        "model = Sequential()\n",
        "model.add(Dense(64, kernel_initializer='normal', activation='relu', input_shape=(13,)))\n",
        "model.add(Dense(64, activation='relu'))  # layer ẩn có 64 input, 64 output.\n",
        "model.add(Dense(1))  # layer output có 1 noron (1 output) là giá nhà.\n",
        "# model.summary()\n"
      ]
    },
    {
      "cell_type": "markdown",
      "metadata": {
        "id": "mUMWOuu-KCJQ"
      },
      "source": [
        "**B3: Biên dịch**"
      ]
    },
    {
      "cell_type": "code",
      "execution_count": null,
      "metadata": {
        "id": "K19o9cn9Iux4"
      },
      "outputs": [],
      "source": [
        "model.compile(loss='mse', optimizer=RMSprop(), metrics=['mean_absolute_error'])  # loss: sai số\n",
        "                                                                                 # optimizer: hàm tối ưu"
      ]
    },
    {
      "cell_type": "markdown",
      "metadata": {
        "id": "9HXi8ttcKus5"
      },
      "source": [
        "**B4: Training**"
      ]
    },
    {
      "cell_type": "code",
      "execution_count": null,
      "metadata": {
        "id": "P-28BeG-Iu3v"
      },
      "outputs": [],
      "source": [
        "model.fit(x_train_scale, y_train_scale, batch_size=128, epochs=1000, verbose=1, validation_split=0.2, callbacks=[EarlyStopping(monitor='val_loss', patience=20)])\n",
        "# batch_size: số dữ liệu mỗi lần train.\n",
        "# epoch: số lần train.\n",
        "# revbose=1: số dữ liệu cần tập trung?\n",
        "# validation_split: trong quá trình họ lấy 20% dữ liệu ra đánh giá.\n",
        "# val_loss: giám sát sai số, khi đạt sai số 0.2? thì dừng sớm (EarlyStopping)\n",
        "# thay val_loss = accuracy để giám sát độ chính xác."
      ]
    },
    {
      "cell_type": "markdown",
      "metadata": {
        "id": "mMjkMzuLOX-Q"
      },
      "source": [
        "**B5: Tính độ chính xác**"
      ]
    },
    {
      "cell_type": "code",
      "execution_count": null,
      "metadata": {
        "id": "KkiB_h_jIu8E"
      },
      "outputs": [],
      "source": [
        "score = model.evaluate(x_test_scale, y_test_scale, verbose=0)\n",
        "print('Test loss:', score[0])\n",
        "print('Test accuracy:', score[1])"
      ]
    },
    {
      "cell_type": "markdown",
      "metadata": {
        "id": "pNl1DNDIPKaf"
      },
      "source": [
        "**B6: Tiên đoán**"
      ]
    },
    {
      "cell_type": "code",
      "execution_count": null,
      "metadata": {
        "id": "hkUHMhveIu_q"
      },
      "outputs": [],
      "source": [
        "y_pred = model.predict(x_test_scale)\n",
        "print(y_pred.flatten())\n",
        "print(y_test)"
      ]
    },
    {
      "cell_type": "markdown",
      "metadata": {
        "id": "qgog2MYXyOb-"
      },
      "source": [
        "# **Kiểm tra ngày 15 - 4 -2022**"
      ]
    },
    {
      "cell_type": "code",
      "execution_count": null,
      "metadata": {
        "id": "dI7xpJo-IvCz"
      },
      "outputs": [],
      "source": [
        "import numpy as  np\n",
        "import pandas as pd\n",
        "import matplotlib.pyplot as plt\n",
        "import seaborn as sns\n",
        "from sklearn.linear_model import Perceptron\n",
        "from sklearn.model_selection import train_test_split\n",
        "from sklearn.metrics import accuracy_score\n",
        "from sklearn.preprocessing import StandardScaler\n",
        "data= 'data_crab.csv'\n",
        "data= pd.read_csv(data)\n",
        "data=data[data['sp']=='O']\n",
        "data=data.replace('M',0)\n",
        "data=data.replace('F',1)\n",
        "X=data.drop(['sp','sex','index'],axis=1)\n",
        "y=data.drop(['sp','index','FL','RW','CL','CW','BD'],axis=1)\n",
        "#sns.pairplot(data)\n",
        "X[:5]\n",
        "y[:5]\n",
        "np.unique(y)\n",
        "X_train, X_test,y_train,y_test=train_test_split(X,y,test_size=0.3)\n",
        "sc=StandardScaler()\n",
        "sc.fit(X_train)\n",
        "X_train_Std=sc.transform(X_train)\n",
        "X_test_Sdt=sc.transform(X_test)\n",
        "model=Perceptron(max_iter=40,eta0=0.1,random_state=0)#max_iter:số lần học, etao: tốc độ học(mỗi lần học là từ đầu đến hết)\n",
        "model.fit(X_train,y_train)\n",
        "y_pred=model.predict(X_test_Sdt)\n",
        "y_pred\n",
        "model.score(X,y)"
      ]
    },
    {
      "cell_type": "markdown",
      "metadata": {
        "id": "1R84RSJhyfb9"
      },
      "source": [
        "---\n",
        "# **22 - 4 - 2022**\n",
        "---"
      ]
    },
    {
      "cell_type": "markdown",
      "metadata": {
        "id": "snqDuDQR40HG"
      },
      "source": [
        "**B1: Đọc dữ liệu và vẽ đồ thị**"
      ]
    },
    {
      "cell_type": "code",
      "execution_count": null,
      "metadata": {
        "id": "-UBh_xU6IvFo"
      },
      "outputs": [],
      "source": [
        "import pandas as pd\n",
        "import seaborn as sns\n",
        "import matplotlib.pyplot as plt\n",
        "from sklearn.preprocessing import StandardScaler\n",
        "from sklearn.model_selection import train_test_split\n",
        "from keras.layers import Dense, Activation, BatchNormalization, Dropout\n",
        "from keras.models import Sequential\n",
        "from tensorflow.keras.utils import to_categorical  # Chuyển các đầu ra thành 0,1\n",
        "from keras import callbacks\n",
        "from sklearn.metrics import precision_score, recall_score, confusion_matrix, classification_report, accuracy_score, f1_score\n",
        "\n",
        "data= 'heart_failure_clinical_records_dataset.csv'\n",
        "data= pd.read_csv(data)\n",
        "\n",
        "sns.countplot(x=data['DEATH_EVENT'])  # Vẽ biểu đồ số lượng người sống & số người chết\n",
        "                                      # 1 output: Death_event, 12 input\n",
        "# Vẽ biểu đồ correlation\n",
        "corrmat = data.corr()\n",
        "plt.subplots(figsize=(18, 19))  # 18x19 inches\n",
        "sns.heatmap(corrmat, annot=True, square=True)  # tạo màu\n",
        "                                               # annot: ghi chú thích số lên từng ô\n",
        "                                               # square: vẽ ô hình vuông"
      ]
    },
    {
      "cell_type": "markdown",
      "metadata": {
        "id": "aD41jT8547Zb"
      },
      "source": [
        "**B2: Xử lý số liệu**"
      ]
    },
    {
      "cell_type": "code",
      "execution_count": null,
      "metadata": {
        "id": "UDGif85y46Im"
      },
      "outputs": [],
      "source": [
        "x = data.drop(['DEATH_EVENT'], axis=1)\n",
        "y = data['DEATH_EVENT']"
      ]
    },
    {
      "cell_type": "markdown",
      "metadata": {
        "id": "nVTa2Mrw531-"
      },
      "source": [
        "**B3: Scale dữ liệu (chuẩn hóa dữ liệu về cùng kích thước)**"
      ]
    },
    {
      "cell_type": "code",
      "execution_count": null,
      "metadata": {
        "id": "qnQ__gtV46Ol"
      },
      "outputs": [],
      "source": [
        "# Lấy tên các cột gán vào biến\n",
        "col_names = list(x.columns)\n",
        "s_scaler = StandardScaler()\n",
        "\n",
        "# Chuyển hết tất cả x vào s_scaler?\n",
        "x_df = s_scaler.fit_transform(x)\n",
        "x_df = pd.DataFrame(x_df, columns=col_names)\n",
        "x_df.describe().T\n"
      ]
    },
    {
      "cell_type": "markdown",
      "metadata": {
        "id": "iWwZuzWX79g9"
      },
      "source": [
        "**B4: Chia bộ dữ liệu**"
      ]
    },
    {
      "cell_type": "code",
      "execution_count": null,
      "metadata": {
        "id": "3WvDmczU46Tk"
      },
      "outputs": [],
      "source": [
        "x_train, x_test, y_train, y_test = train_test_split(x_df, y, test_size=0.25, random_state=7)"
      ]
    },
    {
      "cell_type": "markdown",
      "metadata": {
        "id": "SRDhDCnQ9xsg"
      },
      "source": [
        "**B5: Tạo model**"
      ]
    },
    {
      "cell_type": "code",
      "execution_count": null,
      "metadata": {
        "id": "2ZVHsRz146Yx"
      },
      "outputs": [],
      "source": [
        "# Lần lượt tạo 1 lớp ẩn -> 2 -> 3... xem độ chính xác có tăng?\n",
        "from tensorflow.keras.optimizers import RMSprop \n",
        "model = Sequential()\n",
        "model.add(Dense(64, kernel_initializer='normal', activation='relu', input_shape=(12,)))  # layer input\n",
        "model.add(Dense(64, activation='relu'))  # layer ẩn có 64 input, 64 output.\n",
        "model.add(Dense(1))  # layer output có 1 noron (1 output).\n",
        "model.summary()\n",
        "\n",
        "\n",
        "# Tăng dần số noron khảo sát độ chính xác có tăng?"
      ]
    },
    {
      "cell_type": "markdown",
      "metadata": {
        "id": "mzOnEW5Z91AO"
      },
      "source": [
        "**B6: Compile**"
      ]
    },
    {
      "cell_type": "code",
      "execution_count": null,
      "metadata": {
        "id": "FbLh2i2c46c-"
      },
      "outputs": [],
      "source": [
        "model.compile(loss='mse', optimizer=RMSprop(), metrics=['accuracy'])  # Đổi 'mean_absolute_error' thành metrics=['accuracy'] để chạy chính xác hơn."
      ]
    },
    {
      "cell_type": "markdown",
      "metadata": {
        "id": "y3ubyUgi-GEw"
      },
      "source": [
        "**B7: Training**"
      ]
    },
    {
      "cell_type": "code",
      "execution_count": null,
      "metadata": {
        "id": "sBfCOJ8Z46hb"
      },
      "outputs": [],
      "source": [
        "from keras.callbacks import EarlyStopping  # Dừng nhanh, khi đạt 1 giá trị nào đó thì dừng xử lý.\n",
        "\n",
        "model.fit(x_train, y_train, batch_size=32, epochs=500, verbose=1, validation_split=0.2, callbacks=[EarlyStopping(monitor='val_loss', patience=20)])"
      ]
    },
    {
      "cell_type": "markdown",
      "metadata": {
        "id": "jzJsgTKg-4fq"
      },
      "source": [
        "**B8: Tính độ chính xác**"
      ]
    },
    {
      "cell_type": "code",
      "execution_count": null,
      "metadata": {
        "id": "MpbumxFV46mq"
      },
      "outputs": [],
      "source": [
        "score = model.evaluate(x_test, y_test, verbose=0)\n",
        "print('Test loss:', score[0])\n",
        "print('Test accuracy:', score[1])"
      ]
    },
    {
      "cell_type": "markdown",
      "metadata": {
        "id": "NkVRYRmB_EBp"
      },
      "source": [
        "**B9: Tiên đoán**"
      ]
    },
    {
      "cell_type": "code",
      "execution_count": null,
      "metadata": {
        "id": "XXXliD8j_CU0"
      },
      "outputs": [],
      "source": [
        "y_pred = model.predict(x_test)\n",
        "print(y_pred.flatten())\n",
        "print(y_test)"
      ]
    },
    {
      "cell_type": "markdown",
      "metadata": {
        "id": "0VyhYgz7B9qW"
      },
      "source": [
        "**Vẽ biểu đồ có giá trị sai số**"
      ]
    },
    {
      "cell_type": "code",
      "execution_count": null,
      "metadata": {
        "id": "LABqcRb-_CaU"
      },
      "outputs": [],
      "source": [
        ""
      ]
    },
    {
      "cell_type": "markdown",
      "metadata": {
        "id": "T5F4fexwCRVS"
      },
      "source": [
        "**Xử lý file abalone.csv (Tiên đoán tuổi bào ngư để khai thác)**"
      ]
    },
    {
      "cell_type": "code",
      "execution_count": null,
      "metadata": {
        "id": "z64Oy2i6DHEL"
      },
      "outputs": [],
      "source": [
        ""
      ]
    },
    {
      "cell_type": "markdown",
      "metadata": {
        "id": "6B9pvouIC_V4"
      },
      "source": [
        "---\n",
        "# **29 - 4 - 2022 - Xử lý ảnh- ANN**\n",
        "---"
      ]
    },
    {
      "cell_type": "markdown",
      "source": [
        "# **MNIST**"
      ],
      "metadata": {
        "id": "wAZzvci3-MNZ"
      }
    },
    {
      "cell_type": "markdown",
      "metadata": {
        "id": "AqIH1weGJ30B"
      },
      "source": [
        "**B1: Tạo dữ liệu train, test - Đọc dữ liệu.**"
      ]
    },
    {
      "cell_type": "code",
      "execution_count": null,
      "metadata": {
        "id": "pd5lS2Uf_CfX"
      },
      "outputs": [],
      "source": [
        "from keras.datasets import mnist\n",
        "# from keras.utils import np_utils\n",
        "import keras\n",
        "import matplotlib.pyplot as plt\n",
        "import numpy as np\n",
        "\n",
        "(x_train, y_train), (x_test, y_test) = mnist.load_data()\n",
        "\n",
        "for i in range(9):\n",
        "  plt.subplot(330 + i + 1)  # 330: chia 3 hang, 3 cot, ve phan tu thu 0.\n",
        "  plt.imshow(x_train[i], cmap=plt.get_cmap())  # plt.get_cmap('gray'): hien trang den\n",
        "plt.show()\n"
      ]
    },
    {
      "cell_type": "code",
      "execution_count": null,
      "metadata": {
        "id": "GLHaNCTk_Ckq"
      },
      "outputs": [],
      "source": [
        "plt.figure(figsize=(10,10))\n",
        "plt.imshow(x_train[100])  # Dung duoc voi x_train la mang 3D"
      ]
    },
    {
      "cell_type": "code",
      "execution_count": null,
      "metadata": {
        "id": "5Gd0zRP__CoT"
      },
      "outputs": [],
      "source": [
        "y_train"
      ]
    },
    {
      "cell_type": "markdown",
      "metadata": {
        "id": "NGFo0vCcKAET"
      },
      "source": [
        "**B2: Chuẩn hóa output về 0 - 1**"
      ]
    },
    {
      "cell_type": "code",
      "execution_count": null,
      "metadata": {
        "id": "fc-mOAVZ_CtI"
      },
      "outputs": [],
      "source": [
        "x_train = x_train.reshape(60000, 784)\n",
        "x_test = x_test.reshape(10000, 784) # 784: số tín hiệu đầu vào\n",
        "x_train = x_train.astype('float32')\n",
        "x_test = x_test.astype('float32')\n",
        "x_train /= 255\n",
        "x_test /= 255\n",
        "y_train = keras.utils.np_utils.to_categorical(y_train, 10)\n",
        "y_test = keras.utils.np_utils.to_categorical(y_test, 10)"
      ]
    },
    {
      "cell_type": "code",
      "source": [
        "y_train"
      ],
      "metadata": {
        "id": "YTr1G-dLrkFK"
      },
      "execution_count": null,
      "outputs": []
    },
    {
      "cell_type": "markdown",
      "metadata": {
        "id": "ZWPz8IbCMFrl"
      },
      "source": [
        "**B3: Tạo model**"
      ]
    },
    {
      "cell_type": "code",
      "execution_count": null,
      "metadata": {
        "id": "00_r5ZlB_CwU"
      },
      "outputs": [],
      "source": [
        "from tensorflow.keras.optimizers import RMSprop\n",
        "from keras.layers import Dense, Activation, BatchNormalization, Dropout\n",
        "from keras.models import Sequential\n",
        "model = Sequential()\n",
        "model.add(Dense(512, kernel_initializer='normal', activation='relu', input_shape=(784,)))  # 784: số tín hiệu đầu vào\n",
        "model.add(Dense(512, activation='relu'))\n",
        "model.add(Dense(512, activation='relu'))\n",
        "# model.add(Dropout(0.2)) # Không cần Dropout cũng đc :D?\n",
        "model.add(Dense(10, activation='softmax'))  # IMPORTANT: 10 output (10 số ngõ ra), 'softmax': xem lại ở trên\n",
        "model.summary()"
      ]
    },
    {
      "cell_type": "markdown",
      "metadata": {
        "id": "HME3M-O_MhUb"
      },
      "source": [
        "**B4: Compile**"
      ]
    },
    {
      "cell_type": "code",
      "execution_count": null,
      "metadata": {
        "id": "A8q1U5XP_C0K"
      },
      "outputs": [],
      "source": [
        "model.compile(loss='categorical_crossentropy', optimizer=RMSprop(), metrics=['accuracy'])\n",
        "history = model.fit(x_train, y_train, batch_size=128, epochs=20, verbose=1, validation_data=(x_test, y_test))  # verbose = 0: trong qua trinh hoc ko hien thi ra man hinh, = 1: hien thi ..., = 2: hien thi 1/500:..., 2/500:..."
      ]
    },
    {
      "cell_type": "markdown",
      "metadata": {
        "id": "O43-KMz-ONBy"
      },
      "source": [
        "**B5: Tính độ chính xác**"
      ]
    },
    {
      "cell_type": "code",
      "execution_count": null,
      "metadata": {
        "id": "ycqJHF7K_C37"
      },
      "outputs": [],
      "source": [
        "score = model.evaluate(x_test, y_test, verbose=0)\n",
        "print('Test loss:', score[0])\n",
        "print('Test accuracy:', score[1])"
      ]
    },
    {
      "cell_type": "markdown",
      "metadata": {
        "id": "FkUJ_ebxOkpg"
      },
      "source": [
        "**B6: Tiên đoán**"
      ]
    },
    {
      "cell_type": "code",
      "execution_count": null,
      "metadata": {
        "id": "58gybECPOThE"
      },
      "outputs": [],
      "source": [
        "y_pred = model.predict(x_test)\n",
        "print(y_test)\n",
        "print(y_pred)"
      ]
    },
    {
      "cell_type": "markdown",
      "source": [
        "**B7: Vẽ đồ thị lưu lại quá trình chạy? từ biến history**"
      ],
      "metadata": {
        "id": "ES-MPaXHV0P3"
      }
    },
    {
      "cell_type": "code",
      "execution_count": null,
      "metadata": {
        "id": "heptqyzHOTmO"
      },
      "outputs": [],
      "source": [
        "plt.plot(history.history['accuracy'])\n",
        "plt.plot(history.history['val_accuracy'])\n",
        "plt.title('Model accuracy')\n",
        "plt.xlabel('epoch')\n",
        "plt.legend(['Train', 'Validation'], loc='upper left')\n",
        "plt.show()"
      ]
    },
    {
      "cell_type": "markdown",
      "source": [
        "# **Cifar10: Xử lý dữ liệu vật (10 vật)**"
      ],
      "metadata": {
        "id": "6U603hY4XXHI"
      }
    },
    {
      "cell_type": "markdown",
      "source": [
        "0: airplane\n",
        "1: automobile\n",
        "2: bird\n",
        "3: cat\n",
        "4: deer\n",
        "5: dog\n",
        "6: frog\n",
        "7: horse\n",
        "8: ship\n",
        "9: truck"
      ],
      "metadata": {
        "id": "h8O3k2oJXrOB"
      }
    },
    {
      "cell_type": "markdown",
      "source": [
        "**B1: Load dữ liệu**"
      ],
      "metadata": {
        "id": "x2WwLsehX35k"
      }
    },
    {
      "cell_type": "code",
      "execution_count": null,
      "metadata": {
        "id": "wi3UCsX5OTp9"
      },
      "outputs": [],
      "source": [
        "from keras.datasets import cifar10\n",
        "import keras\n",
        "import matplotlib.pyplot as plt\n",
        "import numpy as np\n",
        "\n",
        "(x_train, y_train), (x_test, y_test) = cifar10.load_data()\n",
        "\n",
        "for i in range(9):\n",
        "  plt.subplot(330 + i + 1)  # 330: chia 3 hang, 3 cot, ve phan tu thu 0.\n",
        "  plt.imshow(x_train[i], cmap=plt.get_cmap())  # plt.get_cmap('gray'): hien trang den\n",
        "plt.show()"
      ]
    },
    {
      "cell_type": "code",
      "source": [
        "print(x_train.shape)\n",
        "plt.imshow(x_train[49999])\n",
        "print(x_train[49999].shape) # (32,32,3): w:32, h:32, 3 kenh mau\n"
      ],
      "metadata": {
        "id": "bol2OnMnYG_H"
      },
      "execution_count": null,
      "outputs": []
    },
    {
      "cell_type": "code",
      "execution_count": null,
      "metadata": {
        "id": "hJTKd5jHOTtK"
      },
      "outputs": [],
      "source": [
        "x_train = x_train.reshape(50000, 3072)\n",
        "x_test = x_test.reshape(10000, 3072) # 3072: số tín hiệu đầu vào\n",
        "x_train = x_train.astype('float32')\n",
        "x_test = x_test.astype('float32')\n",
        "x_train /= 255\n",
        "x_test /= 255\n",
        "\n",
        "# ...to_categorical(y_train, 10) với 10: số phần tử output (ở đây dùng cifar10 nên output = 10)\n",
        "y_train = keras.utils.np_utils.to_categorical(y_train, 10)\n",
        "y_test = keras.utils.np_utils.to_categorical(y_test, 10)"
      ]
    },
    {
      "cell_type": "code",
      "execution_count": null,
      "metadata": {
        "id": "fqmQ4zD2_C7Q"
      },
      "outputs": [],
      "source": [
        "from tensorflow.keras.optimizers import RMSprop\n",
        "from keras.layers import Dense, Activation, BatchNormalization, Dropout\n",
        "from keras.models import Sequential\n",
        "model = Sequential()\n",
        "model.add(Dense(512, kernel_initializer='normal', activation='relu', input_shape=(3072,)))  # 784: số tín hiệu đầu vào\n",
        "model.add(Dense(512, activation='relu'))\n",
        "model.add(Dense(512, activation='relu'))\n",
        "# model.add(Dropout(0.2)) # Không cần Dropout cũng đc :D?\n",
        "model.add(Dense(10, activation='softmax'))\n",
        "# model.summary()"
      ]
    },
    {
      "cell_type": "code",
      "execution_count": null,
      "metadata": {
        "id": "1cZmprp8_C_G"
      },
      "outputs": [],
      "source": [
        "model.compile(loss='categorical_crossentropy', optimizer=RMSprop(), metrics=['accuracy'])\n",
        "history = model.fit(x_train, y_train, batch_size=128, epochs=10, verbose=1, validation_data=(x_test, y_test))  # verbose = 0: trong qua trinh hoc ko hien thi ra man hinh, = 1: hien thi ..., = 2: hien thi 1/500:..., 2/500:..."
      ]
    },
    {
      "cell_type": "markdown",
      "source": [
        "**Đọc ảnh custom**"
      ],
      "metadata": {
        "id": "CBQKFG7_HlyR"
      }
    },
    {
      "cell_type": "code",
      "source": [
        "import cv2\n",
        "img = cv2.imread(r'plane.jpg')\n",
        "plt.imshow(img)"
      ],
      "metadata": {
        "id": "Qy1H1PVHHOBZ"
      },
      "execution_count": null,
      "outputs": []
    },
    {
      "cell_type": "code",
      "source": [
        "img_re = cv2.resize(img, (32, 32))\n",
        "plt.imshow(img_re)\n",
        "print(img_re.shape)"
      ],
      "metadata": {
        "id": "f8dFhstxHtvR"
      },
      "execution_count": null,
      "outputs": []
    },
    {
      "cell_type": "code",
      "source": [
        "x_test_c = img_re.reshape(-1, 3072) \n",
        "x_test_c = x_test_c.astype('float32')\n",
        "x_test_c /= 255\n",
        "plt.imshow(x_test_c)"
      ],
      "metadata": {
        "id": "KHGN8HdWHqX8"
      },
      "execution_count": null,
      "outputs": []
    },
    {
      "cell_type": "markdown",
      "source": [
        "**Tiên đoán**"
      ],
      "metadata": {
        "id": "HsH1r18abjOc"
      }
    },
    {
      "cell_type": "code",
      "source": [
        "y_pred = model.predict(x_test_c)\n",
        "# print(y_test)\n",
        "print(y_pred)"
      ],
      "metadata": {
        "id": "ZS6O0E5yFHBF"
      },
      "execution_count": null,
      "outputs": []
    },
    {
      "cell_type": "code",
      "source": [
        "score = model.evaluate(x_test_c, y_pred, verbose=0)\n",
        "print('Test loss:', score[0])\n",
        "print('Test accuracy:', score[1])"
      ],
      "metadata": {
        "id": "dYWJXPU9e5nS"
      },
      "execution_count": null,
      "outputs": []
    },
    {
      "cell_type": "code",
      "source": [
        "plt.plot(history.history['accuracy'])\n",
        "plt.plot(history.history['val_accuracy'])\n",
        "plt.title('Model accuracy')\n",
        "plt.xlabel('epoch')\n",
        "plt.legend(['Train', 'Validation'], loc='upper left')\n",
        "plt.show()"
      ],
      "metadata": {
        "id": "RpUy_VLiZtXi"
      },
      "execution_count": null,
      "outputs": []
    },
    {
      "cell_type": "markdown",
      "source": [
        "---\n",
        "# **Bài tập: cifar100 - fashion MNIST - Iris**\n",
        "---"
      ],
      "metadata": {
        "id": "LT7xXMP9Ze89"
      }
    },
    {
      "cell_type": "markdown",
      "source": [
        "# **cifar100**"
      ],
      "metadata": {
        "id": "WdLNv8HnsrQ5"
      }
    },
    {
      "cell_type": "markdown",
      "source": [
        "**B1: Load dữ liệu train, test**"
      ],
      "metadata": {
        "id": "VDGJl89kpZwN"
      }
    },
    {
      "cell_type": "code",
      "source": [
        "from keras.datasets import cifar100\n",
        "# from keras.utils import np_utils\n",
        "import keras\n",
        "import matplotlib.pyplot as plt\n",
        "import numpy as np\n",
        "\n",
        "(x_train, y_train), (x_test, y_test) = cifar100.load_data()\n",
        "\n",
        "for i in range(9):\n",
        "  plt.subplot(330 + i + 1)  # 330: chia 3 hang, 3 cot, ve phan tu thu 0.\n",
        "  plt.imshow(x_train[i], cmap=plt.get_cmap())  # plt.get_cmap('gray'): hien trang den\n",
        "plt.show()"
      ],
      "metadata": {
        "id": "c-HTCgJRg1e1"
      },
      "execution_count": null,
      "outputs": []
    },
    {
      "cell_type": "code",
      "source": [
        "print(x_train.shape)\n",
        "print(y_train.shape)\n",
        "print(x_test.shape)\n",
        "print(y_test.shape)"
      ],
      "metadata": {
        "id": "JuGWdh4doNsl"
      },
      "execution_count": null,
      "outputs": []
    },
    {
      "cell_type": "markdown",
      "source": [
        "**B2: Chuẩn hóa dữ liệu 0 - 1**"
      ],
      "metadata": {
        "id": "tG6D0_SAphDO"
      }
    },
    {
      "cell_type": "code",
      "source": [
        "x_train = x_train.reshape(50000, 3072)\n",
        "x_test = x_test.reshape(10000, 3072) # 3072: số tín hiệu đầu vào\n",
        "x_train = x_train.astype('float32')\n",
        "x_test = x_test.astype('float32')\n",
        "x_train /= 255\n",
        "x_test /= 255\n",
        "\n",
        "# ...to_categorical(y_train, 100) với 100: số phần tử output (ở đây dùng cifar100 nên output = 100)\n",
        "y_train = keras.utils.np_utils.to_categorical(y_train, 10)\n",
        "y_test = keras.utils.np_utils.to_categorical(y_test, 10)"
      ],
      "metadata": {
        "id": "wIMBJyh2g1rd"
      },
      "execution_count": null,
      "outputs": []
    },
    {
      "cell_type": "code",
      "source": [
        "print(y_test)"
      ],
      "metadata": {
        "id": "T02sptrHpnbi"
      },
      "execution_count": null,
      "outputs": []
    },
    {
      "cell_type": "markdown",
      "source": [
        "**B3: Tạo model**"
      ],
      "metadata": {
        "id": "n1kcnf36pt9y"
      }
    },
    {
      "cell_type": "code",
      "source": [
        "from tensorflow.keras.optimizers import RMSprop\n",
        "from keras.layers import Dense, Activation, BatchNormalization, Dropout\n",
        "from keras.models import Sequential\n",
        "model = Sequential()\n",
        "model.add(Dense(1024, kernel_initializer='normal', activation='relu', input_shape=(3072,)))  # 3072: số tín hiệu đầu vào\n",
        "model.add(Dense(1024, activation='relu'))\n",
        "model.add(Dense(1024, activation='relu'))\n",
        "# model.add(Dropout(0.2)) # Dropout: tăng cường\n",
        "model.add(Dense(100, activation='softmax'))  # IMPORTANT: 100 output (100 số ngõ ra), 'softmax': xem lại ở trên\n",
        "# model.summary()"
      ],
      "metadata": {
        "id": "Pq_DbP_wg1w7"
      },
      "execution_count": null,
      "outputs": []
    },
    {
      "cell_type": "markdown",
      "metadata": {
        "id": "ff8SX9l7p542"
      },
      "source": [
        "**B4: Compile**"
      ]
    },
    {
      "cell_type": "code",
      "execution_count": null,
      "metadata": {
        "id": "U12WBRs0p543"
      },
      "outputs": [],
      "source": [
        "model.compile(loss='categorical_crossentropy', optimizer=RMSprop(), metrics=['accuracy'])\n",
        "history = model.fit(x_train, y_train, batch_size=128, epochs=20, verbose=1, validation_data=(x_test, y_test))  # verbose = 0: trong qua trinh hoc ko hien thi ra man hinh, = 1: hien thi ..., = 2: hien thi 1/500:..., 2/500:..."
      ]
    },
    {
      "cell_type": "markdown",
      "metadata": {
        "id": "wwqcVgxgp543"
      },
      "source": [
        "**B5: Tính độ chính xác**"
      ]
    },
    {
      "cell_type": "code",
      "execution_count": null,
      "metadata": {
        "id": "Ru8ONy46p544"
      },
      "outputs": [],
      "source": [
        "score = model.evaluate(x_test, y_test, verbose=0)\n",
        "print('Test loss:', score[0])\n",
        "print('Test accuracy:', score[1])"
      ]
    },
    {
      "cell_type": "markdown",
      "metadata": {
        "id": "ETNyJvKop544"
      },
      "source": [
        "**B6: Tiên đoán**"
      ]
    },
    {
      "cell_type": "code",
      "execution_count": null,
      "metadata": {
        "id": "AoA_QaYPp544"
      },
      "outputs": [],
      "source": [
        "y_pred = model.predict(x_test)\n",
        "print(y_test)\n",
        "print(y_pred)"
      ]
    },
    {
      "cell_type": "markdown",
      "source": [
        "**B7: Vẽ đồ thị lưu lại quá trình chạy? từ biến history**"
      ],
      "metadata": {
        "id": "SdxlvNzcp544"
      }
    },
    {
      "cell_type": "code",
      "execution_count": null,
      "metadata": {
        "id": "wVBE1akQp545"
      },
      "outputs": [],
      "source": [
        "plt.plot(history.history['accuracy'])\n",
        "plt.plot(history.history['val_accuracy'])\n",
        "plt.title('Model accuracy')\n",
        "plt.xlabel('epoch')\n",
        "plt.legend(['Train', 'Validation'], loc='upper left')\n",
        "plt.show()"
      ]
    },
    {
      "cell_type": "markdown",
      "source": [
        "#**fashion MNIST**"
      ],
      "metadata": {
        "id": "ZIFPn2oTtMGw"
      }
    },
    {
      "cell_type": "markdown",
      "metadata": {
        "id": "ycUg9JlJtZq2"
      },
      "source": [
        "**B1: Tạo dữ liệu train, test - Đọc dữ liệu.**"
      ]
    },
    {
      "cell_type": "code",
      "execution_count": null,
      "metadata": {
        "id": "L06CvGwstZq2"
      },
      "outputs": [],
      "source": [
        "from keras.datasets import fashion_mnist\n",
        "# from keras.utils import np_utils\n",
        "import keras\n",
        "import matplotlib.pyplot as plt\n",
        "import numpy as np\n",
        "\n",
        "(x_train, y_train), (x_test, y_test) = fashion_mnist.load_data()\n",
        "\n",
        "for i in range(9):\n",
        "  plt.subplot(330 + i + 1)  # 330: chia 3 hang, 3 cot, ve phan tu thu 0.\n",
        "  plt.imshow(x_train[i], cmap=plt.get_cmap())  # plt.get_cmap('gray'): hien trang den\n",
        "plt.show()\n"
      ]
    },
    {
      "cell_type": "code",
      "execution_count": null,
      "metadata": {
        "id": "QsrhfQuEtZq3"
      },
      "outputs": [],
      "source": [
        "plt.figure(figsize=(10,10))\n",
        "plt.imshow(x_train[100])  # Dung duoc voi x_train la mang 3D"
      ]
    },
    {
      "cell_type": "code",
      "execution_count": null,
      "metadata": {
        "id": "nWBAreNztZq3"
      },
      "outputs": [],
      "source": [
        "x_train.shape"
      ]
    },
    {
      "cell_type": "markdown",
      "metadata": {
        "id": "6gqlyq5YtZq3"
      },
      "source": [
        "**B2: Chuẩn hóa output về 0 - 1**"
      ]
    },
    {
      "cell_type": "code",
      "execution_count": null,
      "metadata": {
        "id": "EWZMkm0BtZq3"
      },
      "outputs": [],
      "source": [
        "x_train = x_train.reshape(60000, 784)\n",
        "x_test = x_test.reshape(10000, 784) # 784: số tín hiệu đầu vào\n",
        "x_train = x_train.astype('float32')\n",
        "x_test = x_test.astype('float32')\n",
        "x_train /= 255\n",
        "x_test /= 255\n",
        "y_train = keras.utils.np_utils.to_categorical(y_train, 10)\n",
        "y_test = keras.utils.np_utils.to_categorical(y_test, 10)"
      ]
    },
    {
      "cell_type": "code",
      "source": [
        "y_train"
      ],
      "metadata": {
        "id": "WCpWHkB1tZq3"
      },
      "execution_count": null,
      "outputs": []
    },
    {
      "cell_type": "markdown",
      "metadata": {
        "id": "aJvPGUSctZq4"
      },
      "source": [
        "**B3: Tạo model**"
      ]
    },
    {
      "cell_type": "code",
      "execution_count": null,
      "metadata": {
        "id": "L93Uxn64tZq4"
      },
      "outputs": [],
      "source": [
        "from tensorflow.keras.optimizers import RMSprop\n",
        "from keras.layers import Dense, Activation, BatchNormalization, Dropout\n",
        "from keras.models import Sequential\n",
        "model = Sequential()\n",
        "model.add(Dense(512, kernel_initializer='normal', activation='relu', input_shape=(784,)))  # 784: số tín hiệu đầu vào\n",
        "model.add(Dense(512, activation='relu'))\n",
        "model.add(Dense(512, activation='relu'))\n",
        "# model.add(Dropout(0.2)) # Không cần Dropout cũng đc :D?\n",
        "model.add(Dense(10, activation='softmax'))  # IMPORTANT: 10 output (10 số ngõ ra), 'softmax': xem lại ở trên\n",
        "# model.summary()"
      ]
    },
    {
      "cell_type": "markdown",
      "metadata": {
        "id": "iYkpRkShtZq4"
      },
      "source": [
        "**B4: Compile**"
      ]
    },
    {
      "cell_type": "code",
      "execution_count": null,
      "metadata": {
        "id": "y7ie7ommtZq4"
      },
      "outputs": [],
      "source": [
        "model.compile(loss='categorical_crossentropy', optimizer=RMSprop(), metrics=['accuracy'])\n",
        "history = model.fit(x_train, y_train, batch_size=128, epochs=20, verbose=1, validation_data=(x_test, y_test))  # verbose = 0: trong qua trinh hoc ko hien thi ra man hinh, = 1: hien thi ..., = 2: hien thi 1/500:..., 2/500:..."
      ]
    },
    {
      "cell_type": "markdown",
      "metadata": {
        "id": "gl57_AXMtZq4"
      },
      "source": [
        "**B5: Tính độ chính xác**"
      ]
    },
    {
      "cell_type": "code",
      "execution_count": null,
      "metadata": {
        "id": "1e5ErlDitZq4"
      },
      "outputs": [],
      "source": [
        "score = model.evaluate(x_test, y_test, verbose=0)\n",
        "print('Test loss:', score[0])\n",
        "print('Test accuracy:', score[1])\n",
        "'''\n",
        "Test loss: 2.479416847229004\n",
        "Test accuracy: 0.8831999897956848\n",
        "'''"
      ]
    },
    {
      "cell_type": "markdown",
      "metadata": {
        "id": "OwdbLxo3tZq4"
      },
      "source": [
        "**B6: Tiên đoán**"
      ]
    },
    {
      "cell_type": "markdown",
      "source": [
        "**Đọc ảnh custom**"
      ],
      "metadata": {
        "id": "uT43L8w8ivUW"
      }
    },
    {
      "cell_type": "code",
      "source": [
        "import cv2\n",
        "img = cv2.imread(r'tshirt.jpeg')\n",
        "plt.imshow(img)"
      ],
      "metadata": {
        "id": "BALPMNVlivUe"
      },
      "execution_count": null,
      "outputs": []
    },
    {
      "cell_type": "code",
      "source": [
        "print(img.shape)\n",
        "img_re = cv2.resize(img, (28, 28))\n",
        "print(img_re.shape)\n",
        "# plt.imshow(x_test[0])\n",
        "print('x_test[0].shape =', x_test[0].shape)\n",
        "plt.imshow(img_re)\n"
      ],
      "metadata": {
        "id": "hx5eglyUivUf"
      },
      "execution_count": null,
      "outputs": []
    },
    {
      "cell_type": "code",
      "source": [
        "x_test_c = img_re.reshape(-1, 784) # 784: kích thước ảnh 28x28 trải dài thành mảng 1D\n",
        "x_test_c = x_test_c.astype('float32')\n",
        "x_test_c /= 255\n",
        "plt.imshow(x_test_c)"
      ],
      "metadata": {
        "id": "LGY38PQUivUr"
      },
      "execution_count": null,
      "outputs": []
    },
    {
      "cell_type": "code",
      "execution_count": null,
      "metadata": {
        "id": "gTmQVOiOtZq4"
      },
      "outputs": [],
      "source": [
        "y_pred = model.predict(x_test_c)\n",
        "# print(y_test)\n",
        "print(y_pred)\n",
        "print(y_train.shape)\n",
        "print(y_test[1])\n",
        "\n"
      ]
    },
    {
      "cell_type": "markdown",
      "source": [
        "**B7: Vẽ đồ thị lưu lại quá trình chạy? từ biến history**"
      ],
      "metadata": {
        "id": "5Bq0qsKqtZq4"
      }
    },
    {
      "cell_type": "code",
      "execution_count": null,
      "metadata": {
        "id": "9bGo4qVptZq5"
      },
      "outputs": [],
      "source": [
        "plt.plot(history.history['accuracy'])\n",
        "plt.plot(history.history['val_accuracy'])\n",
        "plt.title('Model accuracy')\n",
        "plt.xlabel('epoch')\n",
        "plt.legend(['Train', 'Validation'], loc='upper left')\n",
        "plt.show()"
      ]
    },
    {
      "cell_type": "markdown",
      "source": [
        "#**Iris**"
      ],
      "metadata": {
        "id": "MNPuKMU8v_hQ"
      }
    },
    {
      "cell_type": "markdown",
      "metadata": {
        "id": "eagwu8bYwNm7"
      },
      "source": [
        "**B1: Tạo dữ liệu train, test - Đọc dữ liệu.**"
      ]
    },
    {
      "cell_type": "code",
      "execution_count": null,
      "metadata": {
        "id": "avoW23IfwNm7"
      },
      "outputs": [],
      "source": [
        "import numpy as np\n",
        "import pandas as pd\n",
        "import matplotlib.pyplot as plt\n",
        "\n",
        "plt.style.use('ggplot')\n",
        "from sklearn.datasets import load_iris\n",
        "from sklearn.model_selection import train_test_split\n",
        "from sklearn.preprocessing import OneHotEncoder, StandardScaler\n",
        "\n",
        "iris = load_iris()\n",
        "x = iris['data']\n",
        "y = iris['target']\n",
        "names = iris['target_names']\n",
        "feature_names = iris['feature_names']\n",
        "\n",
        "# One hot encoding\n",
        "enc = OneHotEncoder()\n",
        "y_1 = enc.fit_transform(y[:, np.newaxis]).toarray()\n",
        "\n",
        "# Scale data to have mean 0 and variance 1 \n",
        "# which is importance for convergence of the neural network\n",
        "scaler = StandardScaler()\n",
        "x_scaled = scaler.fit_transform(X)\n",
        "\n",
        "# Split the data set into training and testing\n",
        "x_train, x_test, y_train, y_test = train_test_split(\n",
        "    x_scaled, y_1, test_size=0.5, random_state=2)\n",
        "\n",
        "n_features = x.shape[1]\n",
        "n_classes = y_1.shape[1]"
      ]
    },
    {
      "cell_type": "markdown",
      "source": [
        "**B2: Visualize the Data - Trực quan hóa dữ liệu**"
      ],
      "metadata": {
        "id": "HvlScJRt-fKM"
      }
    },
    {
      "cell_type": "code",
      "source": [
        "# Visualize the data sets\n",
        "plt.figure(figsize=(16, 6))\n",
        "plt.subplot(1, 2, 1)\n",
        "for target, target_name in enumerate(names):\n",
        "    x_plot = x[y == target]\n",
        "    plt.plot(x_plot[:, 0], x_plot[:, 1], linestyle='none', marker='o', label=target_name)\n",
        "plt.xlabel(feature_names[0])\n",
        "plt.ylabel(feature_names[1])\n",
        "plt.axis('equal')\n",
        "plt.legend();\n",
        "\n",
        "plt.subplot(1, 2, 2)\n",
        "for target, target_name in enumerate(names):\n",
        "    x_plot = x[y == target]\n",
        "    plt.plot(x_plot[:, 2], x_plot[:, 3], linestyle='none', marker='o', label=target_name)\n",
        "plt.xlabel(feature_names[2])\n",
        "plt.ylabel(feature_names[3])\n",
        "plt.axis('equal')\n",
        "plt.legend();"
      ],
      "metadata": {
        "id": "Ey7-uCOkk04m"
      },
      "execution_count": null,
      "outputs": []
    },
    {
      "cell_type": "markdown",
      "source": [
        "**B3: Configure Neural Network Models - Tạo model mạng thần kinh**"
      ],
      "metadata": {
        "id": "Oa2EyT_y-pIs"
      }
    },
    {
      "cell_type": "code",
      "execution_count": null,
      "metadata": {
        "id": "KeWiJjQNwNm8"
      },
      "outputs": [],
      "source": [
        "# In order to ignore FutureWarning\n",
        "import warnings\n",
        "warnings.simplefilter(action='ignore', category=FutureWarning)\n",
        "warnings.simplefilter(action='ignore', category=DeprecationWarning)\n",
        "\n",
        "from keras.models import Sequential\n",
        "from keras.layers import Dense\n",
        "\n",
        "def create_custom_model(input_dim, output_dim, nodes, n=1, name='model'):\n",
        "    def create_model():\n",
        "        # Create model\n",
        "        model = Sequential(name=name)\n",
        "        for i in range(n):\n",
        "            model.add(Dense(nodes, input_dim=input_dim, activation='relu'))\n",
        "        model.add(Dense(output_dim, activation='softmax'))\n",
        "\n",
        "        # Compile model\n",
        "        model.compile(loss='categorical_crossentropy', \n",
        "                      optimizer='adam', \n",
        "                      metrics=['accuracy'])\n",
        "        return model\n",
        "    return create_model\n",
        "\n",
        "models = [create_custom_model(n_features, n_classes, 8, i, 'model_{}'.format(i)) \n",
        "          for i in range(1, 4)]\n",
        "\n",
        "for create_model in models:\n",
        "    create_model().summary()"
      ]
    },
    {
      "cell_type": "markdown",
      "metadata": {
        "id": "u5oYV0TpwNm8"
      },
      "source": [
        "**B4: Training**"
      ]
    },
    {
      "cell_type": "code",
      "execution_count": null,
      "metadata": {
        "id": "wTcYfgVWwNm8"
      },
      "outputs": [],
      "source": [
        "from keras.callbacks import TensorBoard\n",
        "\n",
        "history_dict = {}\n",
        "\n",
        "# TensorBoard Callback\n",
        "cb = TensorBoard()\n",
        "\n",
        "for create_model in models:\n",
        "    model = create_model()\n",
        "    print('Model name:', model.name)\n",
        "    history_callback = model.fit(x_train, y_train,\n",
        "                                 batch_size=5,\n",
        "                                 epochs=50,\n",
        "                                 verbose=0,\n",
        "                                 validation_data=(x_test, y_test),\n",
        "                                 callbacks=[cb])\n",
        "    score = model.evaluate(x_test, y_test, verbose=0)\n",
        "    print('Test loss:', score[0])\n",
        "    print('Test accuracy:', score[1])\n",
        "    \n",
        "    history_dict[model.name] = [history_callback, model]"
      ]
    },
    {
      "cell_type": "markdown",
      "metadata": {
        "id": "JCMGQVv0wNm8"
      },
      "source": [
        "**B5: Vẽ đồ thị cho history_dict**"
      ]
    },
    {
      "cell_type": "code",
      "execution_count": null,
      "metadata": {
        "id": "mo0ctnDDwNm8"
      },
      "outputs": [],
      "source": [
        "fig, (ax1, ax2) = plt.subplots(2, figsize=(8, 6))\n",
        "\n",
        "for model_name in history_dict:\n",
        "    val_accurady = history_dict[model_name][0].history['val_accuracy']\n",
        "    val_loss = history_dict[model_name][0].history['val_loss']\n",
        "    ax1.plot(val_accurady, label=model_name)\n",
        "    ax2.plot(val_loss, label=model_name)\n",
        "    \n",
        "ax1.set_ylabel('validation accuracy')\n",
        "ax2.set_ylabel('validation loss')\n",
        "ax2.set_xlabel('epochs')\n",
        "ax1.legend()\n",
        "ax2.legend()"
      ]
    },
    {
      "cell_type": "code",
      "source": [
        "y_pred = model.predict(x_test[1:2])  # x_test[1:2]: lấy x_test[1] nhưng để dạng mảng 2D\n",
        "print(y_pred)"
      ],
      "metadata": {
        "id": "8v8cYonug15e"
      },
      "execution_count": null,
      "outputs": []
    },
    {
      "cell_type": "code",
      "source": [
        "print(x_test[1:2])\n",
        "print(x_train[0])\n",
        "print(x_test.shape)\n",
        "print(x_train.shape)\n",
        "print(y_test.shape)\n",
        "print(y_train.shape)\n",
        "# input x có shape (75,4), output y có shape là (75, 3), tức là 4 input, 3 output, do iris datasets đo 4 kích thước của 3 loài hoa, có 75 mẫu thử để train"
      ],
      "metadata": {
        "id": "H4s1pjluDd2o"
      },
      "execution_count": null,
      "outputs": []
    },
    {
      "cell_type": "code",
      "source": [
        "print(x_test[0])\n",
        "print(y_test)"
      ],
      "metadata": {
        "id": "8HA-tVn8g19G"
      },
      "execution_count": null,
      "outputs": []
    },
    {
      "cell_type": "code",
      "source": [
        ""
      ],
      "metadata": {
        "id": "WpX7nVtzg2AS"
      },
      "execution_count": null,
      "outputs": []
    },
    {
      "cell_type": "markdown",
      "source": [
        "**Draft**"
      ],
      "metadata": {
        "id": "yTWl4uG0IsmL"
      }
    },
    {
      "cell_type": "code",
      "source": [
        "# Python version\n",
        "import sys\n",
        "print('Python: {}'.format(sys.version))\n",
        "# scipy\n",
        "import scipy\n",
        "print('scipy: {}'.format(scipy.__version__))\n",
        "# numpy\n",
        "import numpy\n",
        "print('numpy: {}'.format(numpy.__version__))\n",
        "# matplotlib\n",
        "import matplotlib\n",
        "print('matplotlib: {}'.format(matplotlib.__version__))\n",
        "# pandas\n",
        "import pandas\n",
        "print('pandas: {}'.format(pandas.__version__))\n",
        "# scikit-learn\n",
        "import sklearn\n",
        "print('sklearn: {}'.format(sklearn.__version__))"
      ],
      "metadata": {
        "id": "UjjC6XRaFJoq"
      },
      "execution_count": null,
      "outputs": []
    },
    {
      "cell_type": "code",
      "source": [
        "# Load libraries\n",
        "import seaborn\n",
        "import pandas\n",
        "from pandas.plotting import scatter_matrix\n",
        "import matplotlib.pyplot as plt\n",
        "from sklearn.model_selection import cross_validate  # cross_validation đã sửa thành cross_validate\n",
        "from sklearn.metrics import classification_report\n",
        "from sklearn.metrics import confusion_matrix\n",
        "from sklearn.metrics import accuracy_score\n",
        "from sklearn.linear_model import LogisticRegression\n",
        "from sklearn.tree import DecisionTreeClassifier\n",
        "from sklearn.neighbors import KNeighborsClassifier\n",
        "from sklearn.discriminant_analysis import LinearDiscriminantAnalysis\n",
        "from sklearn.naive_bayes import GaussianNB\n",
        "from sklearn.svm import SVC"
      ],
      "metadata": {
        "id": "fJIrj5Y7g2Dl"
      },
      "execution_count": null,
      "outputs": []
    },
    {
      "cell_type": "code",
      "source": [
        "import numpy as np\n",
        "import pandas as pd\n",
        "import matplotlib.pyplot as plt\n",
        "\n",
        "plt.style.use('ggplot')\n",
        "from sklearn.datasets import load_iris\n",
        "from sklearn.model_selection import train_test_split\n",
        "from sklearn.preprocessing import OneHotEncoder, StandardScaler\n",
        "\n",
        "iris = load_iris()\n",
        "x = iris['data']\n",
        "y = iris['target']\n",
        "names = iris['target_names']\n",
        "feature_names = iris['feature_names']\n",
        "\n",
        "# One hot encoding\n",
        "enc = OneHotEncoder()\n",
        "y_1 = enc.fit_transform(y[:, np.newaxis]).toarray()\n",
        "\n",
        "# Scale data to have mean 0 and variance 1 \n",
        "# which is importance for convergence of the neural network\n",
        "scaler = StandardScaler()\n",
        "x_scaled = scaler.fit_transform(X)\n",
        "\n",
        "# Split the data set into training and testing\n",
        "x_train, x_test, y_train, y_test = train_test_split(\n",
        "    x_scaled, y_1, test_size=0.5, random_state=2)\n",
        "\n",
        "n_features = x.shape[1]\n",
        "n_classes = y_1.shape[1]"
      ],
      "metadata": {
        "id": "mL4IadsMg2Gx"
      },
      "execution_count": null,
      "outputs": []
    },
    {
      "cell_type": "markdown",
      "source": [
        "---\n",
        "# **6 - 5 - 2022: CIFAR10 with CNN**\n",
        "\n",
        "---"
      ],
      "metadata": {
        "id": "1xWIVbOhCsci"
      }
    },
    {
      "cell_type": "code",
      "source": [
        "model.save('final.h5')"
      ],
      "metadata": {
        "id": "o89ahmpTCIUW"
      },
      "execution_count": null,
      "outputs": []
    },
    {
      "cell_type": "code",
      "source": [
        "from keras.models import Sequential\n",
        "import numpy as np\n",
        "\n",
        "data = [[0,0,0,1,1,0,0,0],\n",
        "        [0,0,0,1,1,0,0,0],\n",
        "        [0,0,0,1,1,0,0,0],\n",
        "        [0,0,0,1,1,0,0,0],\n",
        "        [0,0,0,1,1,0,0,0],\n",
        "        [0,0,0,1,1,0,0,0],\n",
        "        [0,0,0,1,1,0,0,0],\n",
        "        [0,0,0,1,1,0,0,0]]\n",
        "data = np.asarray(data)\n",
        "data = data.reshape(1,8,8,1)\n",
        "model = Sequential()\n",
        "# model.add(Conv2D(1, (3,3), in_shape=(8,8,1)))\n",
        "# detector = [[[0]], [[1]], [[0]],\n",
        "            [[0]], [[1]], [[0]],\n",
        "            [[0]], [[1]], [[0]]]\n",
        "# weights =             "
      ],
      "metadata": {
        "id": "cb8G3oeoCIYB"
      },
      "execution_count": null,
      "outputs": []
    },
    {
      "cell_type": "code",
      "source": [
        "from keras.datasets import cifar10\n",
        "from keras.models import Sequential\n",
        "from keras.utils.np_utils import to_categorical\n",
        "from keras.layers import Dense, Activation, BatchNormalization, Dropout, Conv2D, MaxPooling2D, Flatten # BatchNormalization: để dùng GPU ko lỗi\n",
        "import matplotlib.pyplot as plt\n",
        "import numpy as np\n",
        "\n",
        "(x_train, y_train), (x_test, y_test) = cifar10.load_data()\n",
        "\n",
        "for i in range(9):\n",
        "  plt.subplot(330 + i + 1) \n",
        "  plt.imshow(x_train[i], cmap=plt.get_cmap())\n",
        "plt.show()\n",
        "# 0: airplane 1: automobile 2: bird 3: cat 4: deer 5: dog 6: frog 7: horse 8: ship 9: truck"
      ],
      "metadata": {
        "id": "GqnX6dW4CIbc"
      },
      "execution_count": null,
      "outputs": []
    },
    {
      "cell_type": "code",
      "source": [
        "# Chuyen don vi mau thanh so thuc\n",
        "x_train = x_train.astype('float32')\n",
        "x_test = x_test.astype('float32')\n",
        "\n",
        "# Chuyen anh trang den\n",
        "x_train /= 255\n",
        "x_test /= 255\n",
        "\n",
        "# ...to_categorical(y_train, 10) với 10: số phần tử output (ở đây dùng cifar10 nên output = 10)\n",
        "y_train = to_categorical(y_train, 10)\n",
        "y_test = to_categorical(y_test, 10)"
      ],
      "metadata": {
        "id": "4mtKRYAiCIe4"
      },
      "execution_count": null,
      "outputs": []
    },
    {
      "cell_type": "code",
      "source": [
        "print(y_train)"
      ],
      "metadata": {
        "id": "mVi8Hg7ik0sr"
      },
      "execution_count": null,
      "outputs": []
    },
    {
      "cell_type": "markdown",
      "source": [
        "**Tạo model**"
      ],
      "metadata": {
        "id": "nLvNtIAYUefH"
      }
    },
    {
      "cell_type": "code",
      "source": [
        "model = Sequential()\n",
        "model.add(Conv2D(32, (3,3), activation='relu', kernel_initializer='he_uniform', padding='same', input_shape=(32,32,3)))  # 32: số lần dùng bộ lọc (filter - mảng 3x3)\n",
        "                                                                                                                         # kernel_initializer='he_uniform': setup bộ lọc ban đầu với dạng he_uni...\n",
        "                                                                                                                         # padding='same': để khi pad mảng filter ảnh sẽ ko bị thay đổi kích thước.\n",
        "model.add(MaxPooling2D((2,2)))                                                                                                                         \n",
        "\n",
        "model = Sequential()\n",
        "model.add(Conv2D(64, (3,3), activation='relu', kernel_initializer='he_uniform', padding='same'))  # 32: số lần dùng bộ lọc (filter - mảng 3x3)\n",
        "                                                                                                                         # kernel_initializer='he_uniform': setup bộ lọc ban đầu với dạng he_uni...\n",
        "                                                                                                                         # padding='same': để khi pad mảng filter ảnh sẽ ko bị thay đổi kích thước.\n",
        "model.add(MaxPooling2D((2,2)))                                                                                                                         \n",
        "\n",
        "model = Sequential()\n",
        "model.add(Conv2D(128, (3,3), activation='relu', kernel_initializer='he_uniform', padding='same'))  # 32: số lần dùng bộ lọc (filter - mảng 3x3)\n",
        "                                                                                                                         # kernel_initializer='he_uniform': setup bộ lọc ban đầu với dạng he_uni...\n",
        "                                                                                                                         # padding='same': để khi pad mảng filter ảnh sẽ ko bị thay đổi kích thước.\n",
        "model.add(MaxPooling2D((2,2)))                                                                                                                         \n"
      ],
      "metadata": {
        "id": "FVkCOqFHCIiQ"
      },
      "execution_count": null,
      "outputs": []
    },
    {
      "cell_type": "code",
      "source": [
        "from keras.layers import Dense\n",
        "model.add(Flatten())\n",
        "model.add(Dense(128, activation='relu', kernel_initializer='he_uniform'))  # Dense: full-connected (tất cả các tế bào thần kinh đều kết nối với nhau)\n",
        "model.add(Dense(10, activation='softmax'))"
      ],
      "metadata": {
        "id": "88rHPEiqCIlU"
      },
      "execution_count": null,
      "outputs": []
    },
    {
      "cell_type": "markdown",
      "source": [
        "**Compile model**"
      ],
      "metadata": {
        "id": "egQGXliCO5OJ"
      }
    },
    {
      "cell_type": "code",
      "source": [
        "from tensorflow.keras.optimizers import SGD\n",
        "opt = SGD(lr=0.01, momentum=0.9)  # lr: learning rate: tốc độ học, momentum: momen động lượng, sự dao động :D?\n",
        "model.compile(optimizer=opt, loss='categorical_crossentropy', metrics='accuracy')\n",
        "history = model.fit(x_train, y_train, epochs=20, batch_size=64, validation_data=(x_test, y_test), verbose=1)"
      ],
      "metadata": {
        "id": "PcWkrx5MCIoX"
      },
      "execution_count": null,
      "outputs": []
    },
    {
      "cell_type": "code",
      "source": [
        "model.save('6_5_CNN_final.h5')"
      ],
      "metadata": {
        "id": "xpqGIpIBCIrY"
      },
      "execution_count": null,
      "outputs": []
    },
    {
      "cell_type": "code",
      "source": [
        "model = load_model('6_5_CNN_final.h5')"
      ],
      "metadata": {
        "id": "hr_PRRAcWYfO"
      },
      "execution_count": null,
      "outputs": []
    },
    {
      "cell_type": "code",
      "source": [
        "http://machinelearningmastery.com/wp-content/uploads/2019/02/sample_image-1.png"
      ],
      "metadata": {
        "id": "iRVU2URtCIuo"
      },
      "execution_count": null,
      "outputs": []
    },
    {
      "cell_type": "code",
      "source": [
        "import matplotlib.pyplot as plt\n",
        "from tensorflow.keras.utils import load_img, img_to_array\n",
        "\n",
        "img = load_img('sample_image-1.png', target_size=(32,32))\n",
        "# plt.imshow(img)"
      ],
      "metadata": {
        "id": "8sLMudYACIxX"
      },
      "execution_count": null,
      "outputs": []
    },
    {
      "cell_type": "code",
      "source": [
        "img = img_to_array(img)\n",
        "img = img.reshape(1,32,32,3)  # 1: 1 ảnh, kích thước 32x32, 3 kênh màu, cifar10 nhận diện ảnh 32x32\n",
        "img = img.astype('float32')\n",
        "img /= 255\n",
        "np.argmax(model.predict(img), axis=1)"
      ],
      "metadata": {
        "id": "LVm9cpHzXyff"
      },
      "execution_count": null,
      "outputs": []
    },
    {
      "cell_type": "markdown",
      "source": [
        "---\n",
        "# **Bài tập nhận diện khuôn mặt 3 người - FaceDectection**\n",
        "---"
      ],
      "metadata": {
        "id": "GXhnK-Z2NU-W"
      }
    },
    {
      "cell_type": "markdown",
      "source": [
        "**B1: Tạo dữ liệu**"
      ],
      "metadata": {
        "id": "0p7AySsVjmQU"
      }
    },
    {
      "cell_type": "code",
      "source": [
        "import glob\n",
        "import cv2\n",
        "import numpy as np\n",
        "\n",
        "x_train = []\n",
        "x_test = []\n",
        "y_train = []\n",
        "\n",
        "dem = 0\n",
        "for imgpath in glob.glob('/content/drive/MyDrive/Colab Notebooks/faceDetectionSourceImage/*.bmp'):\n",
        "  n = cv2.imread(imgpath)\n",
        "  # print('BanXHieu' in imgpath)\n",
        "  if dem%10 == 0:\n",
        "    x_test.append(n)\n",
        "  else:\n",
        "    x_train.append(n)\n",
        "  name1 = 'BanTruc'\n",
        "  name2 = 'BanXHieu'\n",
        "  if name1 in imgpath:\n",
        "    y_train.append([0])\n",
        "  elif name2 in imgpath:\n",
        "    y_train.append([1])\n",
        "  dem += 1\n",
        "x_train = np.array(x_train)\n",
        "x_test = np.array(x_test)\n",
        "y_train = np.array(y_train)\n",
        "\n"
      ],
      "metadata": {
        "id": "5lTFiNATbuM6"
      },
      "execution_count": null,
      "outputs": []
    },
    {
      "cell_type": "code",
      "source": [
        "y_test = []\n",
        "i = 0\n",
        "while x_train.shape[0] < y_train.shape[0]:\n",
        "  y_test.append(y_train[i])\n",
        "  y_train = np.delete(y_train, i)\n",
        "  i += 9\n",
        "# y_test = np.array(y_test)\n"
      ],
      "metadata": {
        "id": "ZPnBWHMgZHi2"
      },
      "execution_count": null,
      "outputs": []
    },
    {
      "cell_type": "code",
      "source": [
        "print(y_train)\n",
        "print(y_test)"
      ],
      "metadata": {
        "id": "R0-VEJmKl_8m"
      },
      "execution_count": null,
      "outputs": []
    },
    {
      "cell_type": "markdown",
      "source": [
        "**Test show ảnh train và y_train ăn khớp?**"
      ],
      "metadata": {
        "id": "zdMGKN12hdJj"
      }
    },
    {
      "cell_type": "code",
      "source": [
        "import matplotlib.pyplot as plt\n",
        "plt.imshow(x_train[454])\n",
        "print(y_train[454])"
      ],
      "metadata": {
        "id": "h5TODP9OXycu"
      },
      "execution_count": null,
      "outputs": []
    },
    {
      "cell_type": "code",
      "source": [
        "print(x_train.shape)\n",
        "print(y_train.shape)\n",
        "print(y_test.shape)\n",
        "print(x_test.shape)\n"
      ],
      "metadata": {
        "id": "5gmTR33zXyaJ"
      },
      "execution_count": null,
      "outputs": []
    },
    {
      "cell_type": "markdown",
      "source": [
        "---"
      ],
      "metadata": {
        "id": "uWbfknQ8igii"
      }
    },
    {
      "cell_type": "markdown",
      "source": [
        "**Code delete 1 element in a numpy array - xoá 1 phần tử trong mảng numpy**"
      ],
      "metadata": {
        "id": "DGB46JCFaOgD"
      }
    },
    {
      "cell_type": "code",
      "source": [
        "a = np.array([[1], [2], [3], [4]])\n",
        "print(a)\n",
        "m = np.delete(a, 2)\n",
        "print(m)\n",
        "a = list(a)\n",
        "print(a)"
      ],
      "metadata": {
        "id": "CTkT9lmmXyW1"
      },
      "execution_count": null,
      "outputs": []
    },
    {
      "cell_type": "markdown",
      "source": [
        "---"
      ],
      "metadata": {
        "id": "oDAO3MVHidVF"
      }
    },
    {
      "cell_type": "markdown",
      "source": [
        "**B2: Chuẩn hoá dữ liệu**"
      ],
      "metadata": {
        "id": "VBquyDD1jqid"
      }
    },
    {
      "cell_type": "code",
      "source": [
        "from keras.utils.np_utils import to_categorical\n",
        "\n",
        "# Chuyen don vi mau thanh so thuc\n",
        "x_train = x_train.astype('float32')\n",
        "x_test = x_test.astype('float32')\n",
        "\n",
        "# Chuyen anh trang den\n",
        "x_train /= 255\n",
        "x_test /= 255\n",
        "\n",
        "# ...to_categorical(y_train, 10) với 10: số phần tử output (ở đây dùng cifar10 nên output = 10)\n",
        "y_train = to_categorical(y_train, 2)\n",
        "y_test = to_categorical(y_test, 2)"
      ],
      "metadata": {
        "id": "tMfJY9qnXyUI"
      },
      "execution_count": null,
      "outputs": []
    },
    {
      "cell_type": "markdown",
      "source": [
        "# **13 - 5 - 2022: CIFAR100 with CNN**"
      ],
      "metadata": {
        "id": "keCKXtFAD26v"
      }
    },
    {
      "cell_type": "code",
      "source": [
        "from keras.datasets import cifar100\n",
        "# from keras.utils import np_utils\n",
        "import matplotlib.pyplot as plt\n",
        "import numpy as np\n",
        "\n",
        "(x_train, y_train), (x_test, y_test) = cifar100.load_data()\n",
        "\n",
        "for i in range(1, 50):\n",
        "  plt.subplot(7, 7, i) \n",
        "  plt.imshow(x_train[i], cmap=plt.get_cmap())  # plt.get_cmap('gray'): hien trang den\n",
        "plt.show()"
      ],
      "metadata": {
        "id": "FigK0bMLXyLB"
      },
      "execution_count": null,
      "outputs": []
    },
    {
      "cell_type": "code",
      "source": [
        "print(x_train.shape)\n",
        "print(x_test.shape)\n"
      ],
      "metadata": {
        "id": "DEya6r8EEwKW"
      },
      "execution_count": null,
      "outputs": []
    },
    {
      "cell_type": "code",
      "source": [
        "from keras.utils.np_utils import to_categorical\n",
        "\n",
        "x_train = x_train.astype('float32')\n",
        "x_test = x_test.astype('float32')\n",
        "x_train /= 255\n",
        "x_test /= 255\n",
        "\n",
        "# ...to_categorical(y_train, 100) với 100: số phần tử output (ở đây dùng cifar100 nên output = 100)\n",
        "y_train = to_categorical(y_train, 100)\n",
        "y_test = to_categorical(y_test, 100)"
      ],
      "metadata": {
        "id": "-2B_5tB6D1go"
      },
      "execution_count": null,
      "outputs": []
    },
    {
      "cell_type": "code",
      "source": [
        "from keras.models import Sequential\n",
        "from keras.layers import Dense, Activation, BatchNormalization, Dropout, Conv2D, MaxPooling2D, Flatten # BatchNormalization: để dùng GPU ko lỗi\n",
        "\n",
        "model = Sequential()\n",
        "model.add(Conv2D(32, (3,3), activation='relu', kernel_initializer='he_uniform', padding='same', input_shape=(32,32,3)))  # 32: số lần dùng bộ lọc (filter - mảng 3x3)\n",
        "                                                                                                                         # kernel_initializer='he_uniform': setup bộ lọc ban đầu với dạng he_uni...\n",
        "                                                                                                                         # padding='same': để khi pad mảng filter ảnh sẽ ko bị thay đổi kích thước.\n",
        "model.add(MaxPooling2D((2,2)))                                                                                                                         \n",
        "\n",
        "model = Sequential()\n",
        "model.add(Conv2D(64, (3,3), activation='relu', kernel_initializer='he_uniform', padding='same'))  # 32: số lần dùng bộ lọc (filter - mảng 3x3)\n",
        "                                                                                                                         # kernel_initializer='he_uniform': setup bộ lọc ban đầu với dạng he_uni...\n",
        "                                                                                                                         # padding='same': để khi pad mảng filter ảnh sẽ ko bị thay đổi kích thước.\n",
        "model.add(MaxPooling2D((2,2)))                                                                                                                         \n",
        "\n",
        "model = Sequential()\n",
        "model.add(Conv2D(128, (3,3), activation='relu', kernel_initializer='he_uniform', padding='same'))  # 32: số lần dùng bộ lọc (filter - mảng 3x3)\n",
        "                                                                                                                         # kernel_initializer='he_uniform': setup bộ lọc ban đầu với dạng he_uni...\n",
        "                                                                                                                         # padding='same': để khi pad mảng filter ảnh sẽ ko bị thay đổi kích thước.\n",
        "model.add(MaxPooling2D((2,2)))                                                                                                                         \n"
      ],
      "metadata": {
        "id": "wupJ6yGfD1lK"
      },
      "execution_count": null,
      "outputs": []
    },
    {
      "cell_type": "code",
      "source": [
        "from keras.layers import Dense\n",
        "model.add(Flatten())\n",
        "model.add(Dense(512, activation='relu', kernel_initializer='he_uniform'))  # Dense: full-connected (tất cả các tế bào thần kinh đều kết nối với nhau)\n",
        "model.add(Dropout(0.2))\n",
        "model.add(Dense(512, activation='relu'))\n",
        "model.add(Dropout(0.2))\n",
        "model.add(Dense(100, activation='softmax'))"
      ],
      "metadata": {
        "id": "rHJ--VOND1pm"
      },
      "execution_count": null,
      "outputs": []
    },
    {
      "cell_type": "markdown",
      "source": [
        "**Compile model**"
      ],
      "metadata": {
        "id": "AGqNOZH3FrCq"
      }
    },
    {
      "cell_type": "code",
      "source": [
        "from tensorflow.keras.optimizers import SGD\n",
        "opt = SGD(lr=0.01, momentum=0.9)  # lr: learning rate: tốc độ học, momentum: momen động lượng, sự dao động :D?\n",
        "model.compile(optimizer=opt, loss='categorical_crossentropy', metrics='accuracy')\n",
        "history = model.fit(x_train, y_train, epochs=20, batch_size=64, validation_data=(x_test, y_test), verbose=1)"
      ],
      "metadata": {
        "id": "mqZKY_2ZFrCv"
      },
      "execution_count": null,
      "outputs": []
    },
    {
      "cell_type": "code",
      "source": [
        "model.save('cifar100.h5')"
      ],
      "metadata": {
        "id": "1M29XcXRFrCw"
      },
      "execution_count": null,
      "outputs": []
    },
    {
      "cell_type": "code",
      "source": [
        "import matplotlib.pyplot as plt\n",
        "from tensorflow.keras.utils import load_img, img_to_array\n",
        "\n",
        "img = load_img('sample_image-1.png', target_size=(32,32))\n",
        "# plt.imshow(img)"
      ],
      "metadata": {
        "id": "36v79fI1D1t5"
      },
      "execution_count": null,
      "outputs": []
    },
    {
      "cell_type": "code",
      "source": [
        "img = img_to_array(img)\n",
        "img = img.reshape(1,32,32,3)  # 1: 1 ảnh, kích thước 32x32, 3 kênh màu, cifar10 nhận diện ảnh 32x32\n",
        "img = img.astype('float32')\n",
        "img /= 255\n",
        "np.argmax(model.predict(img), axis=1)"
      ],
      "metadata": {
        "id": "-4eNbbu1D1yA"
      },
      "execution_count": null,
      "outputs": []
    },
    {
      "cell_type": "markdown",
      "source": [
        "#**Tăng cường hình ảnh**"
      ],
      "metadata": {
        "id": "4xplY2SgJWtB"
      }
    },
    {
      "cell_type": "code",
      "source": [
        "pip install mtcnn"
      ],
      "metadata": {
        "id": "KoixQm2aKAu3"
      },
      "execution_count": null,
      "outputs": []
    },
    {
      "cell_type": "markdown",
      "source": [
        "**Faces detecting & counting**"
      ],
      "metadata": {
        "id": "8Fn4c09RPo_j"
      }
    },
    {
      "cell_type": "code",
      "source": [
        "import matplotlib.pyplot as plt\n",
        "from mtcnn import MTCNN\n",
        "import numpy as np\n",
        "filename = 'cdt_19.jpg'\n",
        "pixel = plt.imread(filename)\n",
        "detector = MTCNN()\n",
        "faces = detector.detect_faces(pixel)\n",
        "plt.imshow(pixel)\n",
        "ax = plt.gca()\n",
        "for face in faces:\n",
        "  x, y, width, height = face['box']\n",
        "  rect = plt.Rectangle((x, y), width, height, fill=False, color='red')\n",
        "  ax.add_patch(rect)\n",
        "plt.show()\n",
        "print(np.array(faces).shape)"
      ],
      "metadata": {
        "id": "26IPqwknD119"
      },
      "execution_count": null,
      "outputs": []
    },
    {
      "cell_type": "code",
      "source": [
        "draw_faces(filename, faces)"
      ],
      "metadata": {
        "id": "J2HfzSGsD15s"
      },
      "execution_count": null,
      "outputs": []
    },
    {
      "cell_type": "markdown",
      "source": [
        "# **Cats & Dogs**"
      ],
      "metadata": {
        "id": "KuwNeD4NRmq1"
      }
    },
    {
      "cell_type": "markdown",
      "source": [
        "**Images of cats and dogs are put together into a folder (train)**"
      ],
      "metadata": {
        "id": "N5u15G1E6UGt"
      }
    },
    {
      "cell_type": "code",
      "source": [
        "import matplotlib.pyplot as plt\n",
        "from matplotlib.image import imread\n",
        "\n",
        "# Đọc ảnh dog\n",
        "folder = '/content/drive/MyDrive/Colab Notebooks/cats_dogs_datasets/train/'\n",
        "for i in range(9):\n",
        "  plt.subplot(330 + i +1)\n",
        "  filename = folder + 'dog.' + str(i) + '.jpg'\n",
        "  image = imread(filename)\n",
        "  plt.imshow(image)\n",
        "plt.show()\n",
        "# Đọc ảnh cat\n",
        "for i in range(9):\n",
        "  plt.subplot(330 + i +1)\n",
        "  filename = folder + 'cat.' + str(i) + '.jpg'\n",
        "  image = imread(filename)\n",
        "  plt.imshow(image)\n",
        "plt.show()"
      ],
      "metadata": {
        "id": "cBpoR8RZD19g"
      },
      "execution_count": null,
      "outputs": []
    },
    {
      "cell_type": "code",
      "source": [
        "from os import listdir\n",
        "from numpy import asarray\n",
        "from numpy import save\n",
        "from keras.preprocessing.image import load_img, img_to_array\n",
        "\n",
        "folder = '/content/drive/MyDrive/Colab Notebooks/cats_dogs_datasets/train/'\n",
        "\n",
        "photos, labels = list(), list()\n",
        "for file in listdir(folder):\n",
        "  output = 0\n",
        "  if file.startswith('cat'):\n",
        "    output = 1.0\n",
        "  photo = load_img(folder + file, target_size=(200,200))\n",
        "  photo = img_to_array(photo)  # O dong nay anh da bi thay doi.\n",
        "  photos.append(photo)\n",
        "  labels.append(output)\n",
        "photos = asarray(photos)\n",
        "labels = asarray(labels)\n",
        "print(photos.shape, labels.shape)\n",
        "# print(photos, labels)\n",
        "\n",
        "save('dog_vs_cat_photos.npy', photos)\n",
        "save('dog_vs_cat_labels.npy', labels)"
      ],
      "metadata": {
        "id": "ThkmRS3ND2A3",
        "colab": {
          "base_uri": "https://localhost:8080/"
        },
        "outputId": "01127048-e597-4c64-e067-40eaa667f0de"
      },
      "execution_count": null,
      "outputs": [
        {
          "output_type": "stream",
          "name": "stdout",
          "text": [
            "(2000, 200, 200, 3) (2000,)\n"
          ]
        }
      ]
    },
    {
      "cell_type": "code",
      "source": [
        ""
      ],
      "metadata": {
        "id": "Ru9C2i_a-KhF"
      },
      "execution_count": null,
      "outputs": []
    },
    {
      "cell_type": "code",
      "source": [
        "plt.imshow(photos[0])\n",
        "photos[0].shape\n",
        "print(labels[100])"
      ],
      "metadata": {
        "id": "onE8HxMEdlgk"
      },
      "execution_count": null,
      "outputs": []
    },
    {
      "cell_type": "markdown",
      "source": [
        "Up code lên github, kaggle"
      ],
      "metadata": {
        "id": "TCSSdr_zXy02"
      }
    },
    {
      "cell_type": "markdown",
      "source": [
        "**Tạo model**"
      ],
      "metadata": {
        "id": "-grechrUYvoQ"
      }
    },
    {
      "cell_type": "code",
      "source": [
        "from keras.models import Sequential\n",
        "from keras.layers import Dense, Activation, BatchNormalization, Dropout, Conv2D, MaxPooling2D, Flatten # BatchNormalization: để dùng GPU ko lỗi\n",
        "from tensorflow.keras.optimizers import SGD\n",
        "\n",
        "model = Sequential()\n",
        "model.add(Conv2D(32, (3, 3), activation='relu', kernel_initializer='he_uniform', padding='same', input_shape=(200, 200, 3)))\n",
        "model.add(MaxPooling2D((2, 2)))\n",
        "model.add(Flatten())\n",
        "\n",
        "# model = Sequential()\n",
        "# model.add(Conv2D(64, (3, 3), activation='relu', kernel_initializer='he_uniform', padding='same'))\n",
        "# model.add(MaxPooling2D((2, 2)))\n",
        "# model.add(Flatten())\n",
        "\n",
        "# model = Sequential()\n",
        "# model.add(Conv2D(128, (3, 3), activation='relu', kernel_initializer='he_uniform', padding='same'))\n",
        "# model.add(MaxPooling2D((2, 2)))\n",
        "# model.add(Flatten())\n",
        "\n",
        "# model.add(Dense(2, activation='sigmoid'))\n",
        "\n",
        "# model.add(Flatten())\n",
        "\n",
        "# opt = SGD(learning_rate=0.01, momentum=0.9)\n",
        "# model.compile(optimizer=opt, loss='binary_crossentropy', metrics=['accuracy'])  # Output chỉ có dog hoặc cat (0 hoặc 1) nên dùng binary_crossentropy, nếu nhiều output dùng categorical_crossentropy?\n",
        "# history = model.fit(photos, labels, epochs=10, batch_size=128, verbose=1)"
      ],
      "metadata": {
        "id": "mt5KaJWHZSBi"
      },
      "execution_count": null,
      "outputs": []
    },
    {
      "cell_type": "code",
      "source": [
        ""
      ],
      "metadata": {
        "id": "NfwqPWLW1-MQ"
      },
      "execution_count": null,
      "outputs": []
    },
    {
      "cell_type": "code",
      "source": [
        "model.save('cat_dog.h5')"
      ],
      "metadata": {
        "id": "_r16O9G4ZR9x"
      },
      "execution_count": null,
      "outputs": []
    },
    {
      "cell_type": "code",
      "source": [
        "from keras.models import load_model\n",
        "model = load_model('cat_dog.h5')"
      ],
      "metadata": {
        "id": "sAMHLbCUZR7F"
      },
      "execution_count": null,
      "outputs": []
    },
    {
      "cell_type": "code",
      "source": [
        "# import numpy as np\n",
        "# photos, labels = np.load('dog_vs_cat_photos.npy', encoding='bytes')"
      ],
      "metadata": {
        "id": "ezNToNhMu6_B"
      },
      "execution_count": null,
      "outputs": []
    },
    {
      "cell_type": "code",
      "source": [
        "import matplotlib.pyplot as plt\n",
        "from tensorflow.keras.utils import load_img, img_to_array\n",
        "\n",
        "img = load_img('/content/drive/MyDrive/Colab Notebooks/cats_dogs_datasets/validation/cats/cat.1111.jpg', target_size=(200,200))\n",
        "plt.imshow(img)"
      ],
      "metadata": {
        "id": "kqM7DOziQDbo",
        "colab": {
          "base_uri": "https://localhost:8080/",
          "height": 286
        },
        "outputId": "1d69e32a-cd5a-4c12-9a53-eabe8b949ee5"
      },
      "execution_count": null,
      "outputs": [
        {
          "output_type": "execute_result",
          "data": {
            "text/plain": [
              "<matplotlib.image.AxesImage at 0x7f11ca3c8050>"
            ]
          },
          "metadata": {},
          "execution_count": 23
        },
        {
          "output_type": "display_data",
          "data": {
            "text/plain": [
              "<Figure size 432x288 with 1 Axes>"
            ],
            "image/png": "[encoded data removed]"
          },
          "metadata": {
            "needs_background": "light"
          }
        }
      ]
    },
    {
      "cell_type": "code",
      "source": [
        "import numpy as np\n",
        "imgRe = img_to_array(img)\n",
        "imgRe = imgRe.reshape(1,200,200,3)  # 1: 1 ảnh, kích thước 32x32, 3 kênh màu, cifar10 nhận diện ảnh 32x32\n",
        "imgRe = imgRe.astype('float32')\n",
        "imgRe /= 255\n",
        "print(model.predict(imgRe))\n",
        "np.argmax(model.predict(imgRe), axis=1)"
      ],
      "metadata": {
        "id": "GJVLuUm_QLL7",
        "colab": {
          "base_uri": "https://localhost:8080/"
        },
        "outputId": "03e8b393-e320-4b59-f6cf-fd0a4276500b"
      },
      "execution_count": null,
      "outputs": [
        {
          "output_type": "stream",
          "name": "stdout",
          "text": [
            "[[0.48851565]]\n"
          ]
        },
        {
          "output_type": "execute_result",
          "data": {
            "text/plain": [
              "array([0])"
            ]
          },
          "metadata": {},
          "execution_count": 24
        }
      ]
    },
    {
      "cell_type": "markdown",
      "source": [
        "# **VGG**"
      ],
      "metadata": {
        "id": "jdJxn1Y4elcv"
      }
    },
    {
      "cell_type": "code",
      "source": [
        "from keras.applications.vgg16 import VGG16\n",
        "from keras.models import Model\n",
        "model = VGG16(include_top=False, input_shape=(200, 200, 3))\n",
        "for layer in model.layers:\n",
        "  layer.trainable = False\n",
        "\n",
        "flat1 = Flatten()(model.layers[-1].output)\n",
        "class1 = Dense(128, activation='relu', kernel_initializer='he_uniform')(flat1)\n",
        "output = Dense(1, activation='sigmoid')(class1)\n",
        "model = Model(inputs=model.inputs, outputs=output)\n",
        "opt = SGD(lr=0.01, momentum=0.9)\n",
        "model.compile(optimizer=opt, loss='binary_crossentropy', metrics=['accuracy'])\n",
        "history = model.fit(photos, labels, epochs=5, verbose=1)\n"
      ],
      "metadata": {
        "id": "s-MgNjXvZR3C",
        "colab": {
          "base_uri": "https://localhost:8080/"
        },
        "outputId": "52102ca4-7f72-4ca3-9d26-752de1112d5e"
      },
      "execution_count": null,
      "outputs": [
        {
          "output_type": "stream",
          "name": "stderr",
          "text": [
            "/usr/local/lib/python3.7/dist-packages/keras/optimizer_v2/gradient_descent.py:102: UserWarning: The `lr` argument is deprecated, use `learning_rate` instead.\n",
            "  super(SGD, self).__init__(name, **kwargs)\n"
          ]
        },
        {
          "output_type": "stream",
          "name": "stdout",
          "text": [
            "Epoch 1/5\n",
            "63/63 [==============================] - 10s 131ms/step - loss: 20.9039 - accuracy: 0.8490\n",
            "Epoch 2/5\n",
            "63/63 [==============================] - 8s 128ms/step - loss: 2.7385 - accuracy: 0.7495\n",
            "Epoch 3/5\n",
            "63/63 [==============================] - 8s 130ms/step - loss: 0.5760 - accuracy: 0.7015\n",
            "Epoch 4/5\n",
            "63/63 [==============================] - 8s 131ms/step - loss: 0.7171 - accuracy: 0.6655\n",
            "Epoch 5/5\n",
            "63/63 [==============================] - 8s 131ms/step - loss: 0.4713 - accuracy: 0.6960\n"
          ]
        }
      ]
    },
    {
      "cell_type": "markdown",
      "source": [
        "#**Nhận dạng 10 món ăn**"
      ],
      "metadata": {
        "id": "RAnbqLmD0W8m"
      }
    },
    {
      "cell_type": "code",
      "source": [
        "import matplotlib.pyplot as plt\n",
        "from matplotlib.image import imread\n",
        "\n",
        "folder = '/content/drive/MyDrive/Colab Notebooks/foodsDetection/'\n",
        "for i in range(9):\n",
        "  plt.subplot(330 + i +1)\n",
        "  filename = folder + 'banhu.' + str(i + 1) + '.jpg'\n",
        "  image = imread(filename)\n",
        "  plt.imshow(image)\n",
        "plt.show()"
      ],
      "metadata": {
        "id": "dP9bP1UKH02h",
        "colab": {
          "base_uri": "https://localhost:8080/",
          "height": 269
        },
        "outputId": "673b6b8e-59a0-4887-cea0-d8c90124903c"
      },
      "execution_count": null,
      "outputs": [
        {
          "output_type": "display_data",
          "data": {
            "text/plain": [
              "<Figure size 432x288 with 9 Axes>"
            ],
            "image/png": "[encoded data removed]"
          },
          "metadata": {
            "needs_background": "light"
          }
        }
      ]
    },
    {
      "cell_type": "code",
      "source": [
        "from os import listdir\n",
        "from numpy import asarray\n",
        "from numpy import save\n",
        "from keras.preprocessing.image import load_img, img_to_array\n",
        "\n",
        "folder = '/content/drive/MyDrive/Colab Notebooks/foodsDetection/'\n",
        "\n",
        "photos, labels = list(), list()\n",
        "for file in listdir(folder):\n",
        "  if file.startswith('banhu'):\n",
        "    output = 0.0\n",
        "  elif file.startswith('banhchung'):\n",
        "    output = 1.0\n",
        "  photo = load_img(folder + file, target_size=(200,200))\n",
        "  photo = img_to_array(photo)  # O dong nay anh da bi thay doi.\n",
        "  photos.append(photo)\n",
        "  labels.append(output)\n",
        "photos = asarray(photos)\n",
        "labels = asarray(labels)\n",
        "print(photos.shape, labels.shape)\n",
        "# print(photos[20], labels[20])\n",
        "\n",
        "save('10foods.npy', photos)\n",
        "save('10foods.npy', labels)"
      ],
      "metadata": {
        "id": "jow-vuPXZR0Y",
        "colab": {
          "base_uri": "https://localhost:8080/"
        },
        "outputId": "e255fbd9-37ed-4406-df8a-8612083da4c2"
      },
      "execution_count": null,
      "outputs": [
        {
          "output_type": "stream",
          "name": "stdout",
          "text": [
            "(22, 200, 200, 3) (22,)\n"
          ]
        }
      ]
    },
    {
      "cell_type": "code",
      "source": [
        "from keras.models import Sequential\n",
        "from keras.layers import Dense, Activation, BatchNormalization, Dropout, Conv2D, MaxPooling2D, Flatten # BatchNormalization: để dùng GPU ko lỗi\n",
        "from tensorflow.keras.optimizers import SGD\n",
        "\n",
        "model = Sequential()\n",
        "model.add(Conv2D(32, (3, 3), activation='relu', kernel_initializer='he_uniform', padding='same', input_shape=(200, 200, 3)))\n",
        "model.add(MaxPooling2D((2, 2)))\n",
        "model.add(Flatten())\n",
        "\n",
        "model = Sequential()\n",
        "model.add(Conv2D(64, (3, 3), activation='relu', kernel_initializer='he_uniform', padding='same'))\n",
        "model.add(MaxPooling2D((2, 2)))\n",
        "model.add(Flatten())\n",
        "\n",
        "model = Sequential()\n",
        "model.add(Conv2D(128, (3, 3), activation='relu', kernel_initializer='he_uniform', padding='same'))\n",
        "model.add(MaxPooling2D((2, 2)))\n",
        "model.add(Flatten())\n",
        "\n",
        "model.add(Dense(2, activation='sigmoid'))\n",
        "model.add(Flatten())\n",
        "opt = SGD(lr=0.01, momentum=0.9)\n",
        "model.compile(optimizer=opt, loss='binary_crossentropy', metrics=['accuracy'])\n",
        "history = model.fit(photos, labels, epochs=10, verbose=1)"
      ],
      "metadata": {
        "id": "pjPtpUUGZRJL"
      },
      "execution_count": null,
      "outputs": []
    },
    {
      "cell_type": "code",
      "source": [
        "import matplotlib.pyplot as plt\n",
        "from tensorflow.keras.utils import load_img, img_to_array\n",
        "\n",
        "img = load_img('test7.jpg', target_size=(200,200))\n",
        "plt.imshow(img)"
      ],
      "metadata": {
        "id": "gNbt9pHEZRGG",
        "colab": {
          "base_uri": "https://localhost:8080/",
          "height": 286
        },
        "outputId": "287277dc-94e2-4b0f-9a61-cc27e968b6c0"
      },
      "execution_count": null,
      "outputs": [
        {
          "output_type": "execute_result",
          "data": {
            "text/plain": [
              "<matplotlib.image.AxesImage at 0x7fd4611a9290>"
            ]
          },
          "metadata": {},
          "execution_count": 27
        },
        {
          "output_type": "display_data",
          "data": {
            "text/plain": [
              "<Figure size 432x288 with 1 Axes>"
            ],
            "image/png": "[encoded data removed]"
          },
          "metadata": {
            "needs_background": "light"
          }
        }
      ]
    },
    {
      "cell_type": "code",
      "source": [
        "import numpy as np\n",
        "imgRe = img_to_array(img)\n",
        "imgRe = imgRe.reshape(1,200,200,3)  # 1: 1 ảnh, kích thước 32x32, 3 kênh màu, cifar10 nhận diện ảnh 32x32\n",
        "imgRe = imgRe.astype('float32')\n",
        "imgRe /= 255\n",
        "print(model.predict(imgRe))\n",
        "np.argmax(model.predict(imgRe), axis=1)"
      ],
      "metadata": {
        "id": "D6EWc-fXZRDl",
        "colab": {
          "base_uri": "https://localhost:8080/"
        },
        "outputId": "f06e9ca0-d0a5-408e-b6ba-4738ee933c98"
      },
      "execution_count": null,
      "outputs": [
        {
          "output_type": "stream",
          "name": "stdout",
          "text": [
            "[[1.        0.7466591]]\n"
          ]
        },
        {
          "output_type": "execute_result",
          "data": {
            "text/plain": [
              "array([0])"
            ]
          },
          "metadata": {},
          "execution_count": 28
        }
      ]
    },
    {
      "cell_type": "code",
      "source": [
        ""
      ],
      "metadata": {
        "id": "llILS0xAZRAl"
      },
      "execution_count": null,
      "outputs": []
    },
    {
      "cell_type": "code",
      "source": [
        ""
      ],
      "metadata": {
        "id": "L9p9x48OZQ7O"
      },
      "execution_count": null,
      "outputs": []
    },
    {
      "cell_type": "code",
      "source": [
        ""
      ],
      "metadata": {
        "id": "Ou0FyFppZQ3N"
      },
      "execution_count": null,
      "outputs": []
    },
    {
      "cell_type": "code",
      "source": [
        ""
      ],
      "metadata": {
        "id": "kif1DQWtZQro"
      },
      "execution_count": null,
      "outputs": []
    }
  ],
  "metadata": {
    "colab": {
      "collapsed_sections": [
        "wja5uC6ZFILB",
        "kJ2c29m35CpX",
        "loRWibllE2I4",
        "UqgBEXnBE9ZN",
        "2023HckWvOW-",
        "GAVasrJNnxvU",
        "ec_41VfC3Fyd",
        "9Aun3Xsy3Jzx",
        "3WvOuSecssWQ",
        "r57T8sNCHsKY",
        "R43kVd2au4b0",
        "AlzSJybXxMrS",
        "qgog2MYXyOb-",
        "1R84RSJhyfb9",
        "wAZzvci3-MNZ",
        "6U603hY4XXHI",
        "WdLNv8HnsrQ5",
        "ZIFPn2oTtMGw",
        "MNPuKMU8v_hQ",
        "1xWIVbOhCsci",
        "GXhnK-Z2NU-W",
        "keCKXtFAD26v",
        "4xplY2SgJWtB"
      ],
      "name": "artificial_intelligent.ipynb",
      "provenance": [],
      "mount_file_id": "1w3c4-HsciGKFVQCzfO2cu5Tqr4ClIeBO",
      "authorship_tag": "ABX9TyM/WOADjj3MesJ4NrPpDhkb",
      "include_colab_link": true
    },
    "kernelspec": {
      "display_name": "Python 3",
      "name": "python3"
    },
    "language_info": {
      "name": "python"
    },
    "accelerator": "GPU"
  },
  "nbformat": 4,
  "nbformat_minor": 0
}